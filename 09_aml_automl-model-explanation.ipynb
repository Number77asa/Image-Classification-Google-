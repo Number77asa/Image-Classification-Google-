{
 "cells": [
  {
   "cell_type": "markdown",
   "metadata": {
    "colab_type": "text",
    "id": "sDE-e8jx4trh"
   },
   "source": [
    "Copyright (c) Microsoft Corporation. All rights reserved.\n",
    "\n",
    "Licensed under the MIT License."
   ]
  },
  {
   "cell_type": "markdown",
   "metadata": {
    "colab_type": "text",
    "id": "9-LtfXcN4tri"
   },
   "source": [
    "# Automated Machine Learning: Explain classification model and visualize the explanation\n",
    "\n",
    "In this example we use the sklearn's [iris dataset](http://scikit-learn.org/stable/modules/generated/sklearn.datasets.load_iris.html) to showcase how you can use the AutoML Classifier for a simple classification problem.\n",
    "\n",
    "Make sure you have executed the [configuration](../configuration.ipynb) before running this notebook.\n",
    "\n",
    "In this notebook you would see\n",
    "1. Creating an Experiment in an existing Workspace\n",
    "2. Instantiating AutoMLConfig\n",
    "3. Training the Model using local compute and explain the model\n",
    "4. Visualization model's feature importance in widget\n",
    "5. Explore best model's explanation\n"
   ]
  },
  {
   "cell_type": "markdown",
   "metadata": {
    "colab_type": "text",
    "id": "ZWgwQCId4trj"
   },
   "source": [
    "## Create Experiment\n",
    "\n",
    "As part of the setup you have already created a <b>Workspace</b>. For AutoML you would need to create an <b>Experiment</b>. An <b>Experiment</b> is a named object in a <b>Workspace</b>, which is used to run experiments."
   ]
  },
  {
   "cell_type": "code",
   "execution_count": 2,
   "metadata": {
    "colab": {},
    "colab_type": "code",
    "id": "QKHkeCB64trk"
   },
   "outputs": [
    {
     "name": "stdout",
     "output_type": "stream",
     "text": [
      "Collecting azureml-sdk[automl]\n",
      "  Using cached https://files.pythonhosted.org/packages/75/5d/b9a03efc12c2d18bac509cc8754c3015ee70a50749a63f3b1ba0070c01de/azureml_sdk-1.0.43-py3-none-any.whl\n",
      "Collecting azureml-train==1.0.43.* (from azureml-sdk[automl])\n",
      "  Using cached https://files.pythonhosted.org/packages/67/e4/b5a3d84ac40ceaf4203ca0ef0629e8de9c27edefd9ba0e7c32f5630f1930/azureml_train-1.0.43-py3-none-any.whl\n",
      "Collecting azureml-dataprep<1.2.0a,>=1.1.3a (from azureml-sdk[automl])\n",
      "  Using cached https://files.pythonhosted.org/packages/bd/ec/dd8521421adaf64264aa26ab31a8be4ffd01c29d0600497eed7b955868ac/azureml_dataprep-1.1.5-py3-none-any.whl\n",
      "Collecting azureml-core==1.0.43.* (from azureml-sdk[automl])\n",
      "  Using cached https://files.pythonhosted.org/packages/f6/b2/ba8fde6c28251cec7fee4f6040ba13476a42ecbc138785bf958a5f500704/azureml_core-1.0.43.1-py2.py3-none-any.whl\n",
      "Collecting azureml-pipeline==1.0.43.* (from azureml-sdk[automl])\n",
      "  Using cached https://files.pythonhosted.org/packages/67/31/9266e565b2965616ed694aabb70f035f01627f8e7cfeff48553c3631f0d7/azureml_pipeline-1.0.43-py3-none-any.whl\n",
      "Collecting azureml-train-automl==1.0.43.*; extra == \"automl\" (from azureml-sdk[automl])\n",
      "  Using cached https://files.pythonhosted.org/packages/30/91/095f577098cdf5bdaf0f1932f988dbcf1b455d23b03eaf90368dd07bd41e/azureml_train_automl-1.0.43.1-py3-none-any.whl\n",
      "Collecting azureml-train-core==1.0.43.* (from azureml-train==1.0.43.*->azureml-sdk[automl])\n",
      "  Downloading https://files.pythonhosted.org/packages/2c/af/e6f15c939c7275fe2e630fc9c502f4c0879acb28bd930fcac6083d597766/azureml_train_core-1.0.43-py3-none-any.whl (61kB)\n",
      "Collecting azureml-dataprep-native<14.0.0,>=13.0.0 (from azureml-dataprep<1.2.0a,>=1.1.3a->azureml-sdk[automl])\n",
      "  Downloading https://files.pythonhosted.org/packages/3d/5b/89bed11267f0cf6a911ca6061e14626c58f82c18aeda520d5d4a670d7fa0/azureml_dataprep_native-13.0.0-cp36-cp36m-win_amd64.whl (885kB)\n",
      "Requirement already satisfied, skipping upgrade: dotnetcore2==2.1.8 in c:\\users\\dell\\miniconda3\\envs\\dsi03-inference\\lib\\site-packages (from azureml-dataprep<1.2.0a,>=1.1.3a->azureml-sdk[automl]) (2.1.8)\n",
      "Requirement already satisfied, skipping upgrade: pytz in c:\\users\\dell\\miniconda3\\envs\\dsi03-inference\\lib\\site-packages (from azureml-core==1.0.43.*->azureml-sdk[automl]) (2019.1)\n",
      "Collecting adal>=1.2.0 (from azureml-core==1.0.43.*->azureml-sdk[automl])\n",
      "  Downloading https://files.pythonhosted.org/packages/00/72/53dce9e4f5d6c1aa57b8d408cb34dff1969ecbf10ab7e678f32c5e0e2397/adal-1.2.1-py2.py3-none-any.whl (52kB)\n",
      "Collecting azure-mgmt-resource>=1.2.1 (from azureml-core==1.0.43.*->azureml-sdk[automl])\n",
      "  Using cached https://files.pythonhosted.org/packages/97/1e/03813b5705b46d86d8d6d594930b78f14b13d901b5ca089152e06e67b680/azure_mgmt_resource-3.0.0-py2.py3-none-any.whl\n",
      "Collecting cryptography!=1.9,!=2.0.*,!=2.1.*,!=2.2.* (from azureml-core==1.0.43.*->azureml-sdk[automl])\n",
      "  Downloading https://files.pythonhosted.org/packages/31/1f/f158f5e83c934ff71cde6c54ebcac48547ec05c01836054ea721daf9840b/cryptography-2.7-cp36-cp36m-win_amd64.whl (1.5MB)\n",
      "Collecting urllib3>=1.23 (from azureml-core==1.0.43.*->azureml-sdk[automl])\n",
      "  Downloading https://files.pythonhosted.org/packages/e6/60/247f23a7121ae632d62811ba7f273d0e58972d75e58a94d329d51550a47d/urllib3-1.25.3-py2.py3-none-any.whl (150kB)\n",
      "Collecting requests>=2.19.1 (from azureml-core==1.0.43.*->azureml-sdk[automl])\n",
      "  Downloading https://files.pythonhosted.org/packages/51/bd/23c926cd341ea6b7dd0b2a00aba99ae0f828be89d72b2190f27c11d4b7fb/requests-2.22.0-py2.py3-none-any.whl (57kB)\n",
      "Collecting SecretStorage (from azureml-core==1.0.43.*->azureml-sdk[automl])\n",
      "  Downloading https://files.pythonhosted.org/packages/82/59/cb226752e20d83598d7fdcabd7819570b0329a61db07cfbdd21b2ef546e3/SecretStorage-3.1.1-py3-none-any.whl\n",
      "Collecting backports.tempfile (from azureml-core==1.0.43.*->azureml-sdk[automl])\n",
      "  Using cached https://files.pythonhosted.org/packages/b4/5c/077f910632476281428fe254807952eb47ca78e720d059a46178c541e669/backports.tempfile-1.0-py2.py3-none-any.whl\n",
      "Collecting azure-graphrbac>=0.40.0 (from azureml-core==1.0.43.*->azureml-sdk[automl])\n",
      "  Using cached https://files.pythonhosted.org/packages/3e/93/02056aca45162f9fc275d1eaad12a2a07ef92375afb48eabddc4134b8315/azure_graphrbac-0.61.1-py2.py3-none-any.whl\n",
      "Requirement already satisfied, skipping upgrade: six>=1.11.0 in c:\\users\\dell\\miniconda3\\envs\\dsi03-inference\\lib\\site-packages (from azureml-core==1.0.43.*->azureml-sdk[automl]) (1.12.0)\n",
      "Collecting msrest>=0.5.1 (from azureml-core==1.0.43.*->azureml-sdk[automl])\n",
      "  Using cached https://files.pythonhosted.org/packages/9a/23/eea6c1fce5b24366b48f270c23f043f976eb0d4248eb3cb7e62b0f602bcd/msrest-0.6.7-py2.py3-none-any.whl\n",
      "Collecting azure-common>=1.1.12 (from azureml-core==1.0.43.*->azureml-sdk[automl])\n",
      "  Downloading https://files.pythonhosted.org/packages/e3/36/9946fa617f458f11766884c76c622810f4c111ee16c08eb8315e88330d66/azure_common-1.1.22-py2.py3-none-any.whl\n",
      "Collecting jmespath (from azureml-core==1.0.43.*->azureml-sdk[automl])\n",
      "  Using cached https://files.pythonhosted.org/packages/83/94/7179c3832a6d45b266ddb2aac329e101367fbdb11f425f13771d27f225bb/jmespath-0.9.4-py2.py3-none-any.whl\n",
      "Collecting PyJWT (from azureml-core==1.0.43.*->azureml-sdk[automl])\n",
      "  Using cached https://files.pythonhosted.org/packages/87/8b/6a9f14b5f781697e51259d81657e6048fd31a113229cf346880bb7545565/PyJWT-1.7.1-py2.py3-none-any.whl\n",
      "Collecting contextlib2 (from azureml-core==1.0.43.*->azureml-sdk[automl])\n",
      "  Downloading https://files.pythonhosted.org/packages/a2/71/8273a7eeed0aff6a854237ab5453bc9aa67deb49df4832801c21f0ff3782/contextlib2-0.5.5-py2.py3-none-any.whl\n",
      "Collecting azure-mgmt-containerregistry>=2.0.0 (from azureml-core==1.0.43.*->azureml-sdk[automl])\n",
      "  Downloading https://files.pythonhosted.org/packages/97/70/8c2d0509db466678eba16fa2b0a539499f3b351b1f2993126ad843d5be13/azure_mgmt_containerregistry-2.8.0-py2.py3-none-any.whl (718kB)\n",
      "Collecting pathspec (from azureml-core==1.0.43.*->azureml-sdk[automl])\n",
      "  Using cached https://files.pythonhosted.org/packages/84/2a/bfee636b1e2f7d6e30dd74f49201ccfa5c3cf322d44929ecc6c137c486c5/pathspec-0.5.9.tar.gz\n",
      "Collecting jsonpickle (from azureml-core==1.0.43.*->azureml-sdk[automl])\n",
      "  Using cached https://files.pythonhosted.org/packages/07/07/c157520a3ebd166c8c24c6ae0ecae7c3968eb4653ff0e5af369bb82f004d/jsonpickle-1.2-py2.py3-none-any.whl\n",
      "Requirement already satisfied, skipping upgrade: python-dateutil>=2.7.3 in c:\\users\\dell\\miniconda3\\envs\\dsi03-inference\\lib\\site-packages (from azureml-core==1.0.43.*->azureml-sdk[automl]) (2.8.0)\n",
      "Collecting ruamel.yaml<=0.15.89,>=0.15.35 (from azureml-core==1.0.43.*->azureml-sdk[automl])\n",
      "  Downloading https://files.pythonhosted.org/packages/af/b2/367a4a8767ee423690381f15c6c44a76ad3deb5aed042803e7c91c374bc8/ruamel.yaml-0.15.89-cp36-cp36m-win_amd64.whl (219kB)\n",
      "Collecting pyopenssl (from azureml-core==1.0.43.*->azureml-sdk[automl])\n",
      "  Using cached https://files.pythonhosted.org/packages/01/c8/ceb170d81bd3941cbeb9940fc6cc2ef2ca4288d0ca8929ea4db5905d904d/pyOpenSSL-19.0.0-py2.py3-none-any.whl\n",
      "Collecting azure-mgmt-storage>=1.5.0 (from azureml-core==1.0.43.*->azureml-sdk[automl])\n",
      "  Using cached https://files.pythonhosted.org/packages/8c/03/62c3ed229b9b83fbf4dcd56ae27d5d835f3bd921004c09a478729c221fff/azure_mgmt_storage-4.0.0-py2.py3-none-any.whl\n",
      "Collecting azure-mgmt-authorization>=0.40.0 (from azureml-core==1.0.43.*->azureml-sdk[automl])\n",
      "  Using cached https://files.pythonhosted.org/packages/6b/b2/c0d62a3a91c13641e09af294c13fe16929f88dc5902718388cd9b292217f/azure_mgmt_authorization-0.52.0-py2.py3-none-any.whl\n",
      "Collecting ndg-httpsclient (from azureml-core==1.0.43.*->azureml-sdk[automl])\n",
      "  Using cached https://files.pythonhosted.org/packages/fb/67/c2f508c00ed2a6911541494504b7cac16fe0b0473912568df65fd1801132/ndg_httpsclient-0.5.1-py3-none-any.whl\n",
      "Collecting docker (from azureml-core==1.0.43.*->azureml-sdk[automl])\n",
      "  Using cached https://files.pythonhosted.org/packages/95/47/5560c9cf0c92b50da24216f0e7733250fbed5a497f69e3c70e1be62143fe/docker-4.0.2-py2.py3-none-any.whl\n",
      "Collecting azure-mgmt-keyvault>=0.40.0 (from azureml-core==1.0.43.*->azureml-sdk[automl])\n",
      "  Using cached https://files.pythonhosted.org/packages/b3/d1/9fed0a3a3b43d0b1ad59599b5c836ccc4cf117e26458075385bafe79575b/azure_mgmt_keyvault-2.0.0-py2.py3-none-any.whl\n",
      "Collecting msrestazure>=0.4.33 (from azureml-core==1.0.43.*->azureml-sdk[automl])\n",
      "  Using cached https://files.pythonhosted.org/packages/0a/aa/b17a4f702ecd6d9e989ae34109aa384c988aed0de37215c651165ed45238/msrestazure-0.6.1-py2.py3-none-any.whl\n",
      "Collecting azureml-pipeline-core==1.0.43.* (from azureml-pipeline==1.0.43.*->azureml-sdk[automl])\n",
      "  Using cached https://files.pythonhosted.org/packages/bd/6a/a25969c71a37557f70d3a6fcf5b2e2047984daf4eb5bbb76ac4cd53fcf20/azureml_pipeline_core-1.0.43-py2.py3-none-any.whl\n",
      "Collecting azureml-pipeline-steps==1.0.43.* (from azureml-pipeline==1.0.43.*->azureml-sdk[automl])\n",
      "  Using cached https://files.pythonhosted.org/packages/b9/24/917523741c7d18f4f7447b1e3e8bd00ef97a26f1991426e90ec64d90834a/azureml_pipeline_steps-1.0.43-py3-none-any.whl\n",
      "Collecting sklearn-pandas<=1.7.0,>=1.4.0 (from azureml-train-automl==1.0.43.*; extra == \"automl\"->azureml-sdk[automl])\n",
      "  Downloading https://files.pythonhosted.org/packages/7e/9c/c94f46b40b86d2c77c46c4c1b858fc66c117b4390665eca28f2e0812db45/sklearn_pandas-1.7.0-py2.py3-none-any.whl\n",
      "Collecting statsmodels>=0.9.0 (from azureml-train-automl==1.0.43.*; extra == \"automl\"->azureml-sdk[automl])\n",
      "  Downloading https://files.pythonhosted.org/packages/77/2b/8ba61399b31f984c263b177c2e2547a34f0d4d972a24a51fc77c376079b0/statsmodels-0.9.0-cp36-cp36m-win_amd64.whl (7.0MB)\n",
      "Collecting numpy<=1.16.2,>=1.11.0 (from azureml-train-automl==1.0.43.*; extra == \"automl\"->azureml-sdk[automl])\n",
      "  Downloading https://files.pythonhosted.org/packages/ed/29/d97b6252591da5f8add0d25eecda296ea72729a0aad7998edba1981b47c8/numpy-1.16.2-cp36-cp36m-win_amd64.whl (11.9MB)\n",
      "Collecting scikit-learn<=0.20.3,>=0.19.0 (from azureml-train-automl==1.0.43.*; extra == \"automl\"->azureml-sdk[automl])\n",
      "  Downloading https://files.pythonhosted.org/packages/e7/e4/56757c30853899077cf042f78fb981c0b60f7af4e7a54ca18328b80e0bff/scikit_learn-0.20.3-cp36-cp36m-win_amd64.whl (4.8MB)\n",
      "Collecting wheel==0.30.0 (from azureml-train-automl==1.0.43.*; extra == \"automl\"->azureml-sdk[automl])\n",
      "  Downloading https://files.pythonhosted.org/packages/0c/80/16a85b47702a1f47a63c104c91abdd0a6704ee8ae3b4ce4afc49bc39f9d9/wheel-0.30.0-py2.py3-none-any.whl (49kB)\n",
      "Collecting patsy>=0.5.1 (from azureml-train-automl==1.0.43.*; extra == \"automl\"->azureml-sdk[automl])\n",
      "  Downloading https://files.pythonhosted.org/packages/ea/0c/5f61f1a3d4385d6bf83b83ea495068857ff8dfb89e74824c6e9eb63286d8/patsy-0.5.1-py2.py3-none-any.whl (231kB)\n",
      "Collecting lightgbm<=2.2.1,>=2.0.11 (from azureml-train-automl==1.0.43.*; extra == \"automl\"->azureml-sdk[automl])\n",
      "  Downloading https://files.pythonhosted.org/packages/63/0a/0aa1e3afe54b75bceac1c85f534cf8a73036975296d439c699fbe4f48aa4/lightgbm-2.2.1-py2.py3-none-win_amd64.whl (492kB)\n",
      "Collecting skl2onnx==1.4.9; python_version < \"3.7\" (from azureml-train-automl==1.0.43.*; extra == \"automl\"->azureml-sdk[automl])\n",
      "  Downloading https://files.pythonhosted.org/packages/40/4d/630598ba5cbf7b6522158c236b9e74930f14bbc9324b61ddc40f252bab40/skl2onnx-1.4.9-py2.py3-none-any.whl (114kB)\n",
      "Collecting onnxmltools==1.4.1; python_version < \"3.7\" (from azureml-train-automl==1.0.43.*; extra == \"automl\"->azureml-sdk[automl])\n",
      "  Downloading https://files.pythonhosted.org/packages/78/7f/1d47b82f1e98f742018e4c4c227ec9bd0ae1efdba3a6dfd7d30c45881fb9/onnxmltools-1.4.1-py2.py3-none-any.whl (371kB)\n",
      "Collecting scipy<=1.1.0,>=1.0.0 (from azureml-train-automl==1.0.43.*; extra == \"automl\"->azureml-sdk[automl])\n",
      "  Downloading https://files.pythonhosted.org/packages/62/e2/364f0bcc641aeff79d743c732769d5dc31a1e78c27699229431412c4b425/scipy-1.1.0-cp36-none-win_amd64.whl (31.1MB)\n",
      "Collecting azureml-automl-core==1.0.43.* (from azureml-train-automl==1.0.43.*; extra == \"automl\"->azureml-sdk[automl])\n",
      "  Downloading https://files.pythonhosted.org/packages/b1/35/0f7fd50b9f1200e7879a87e46488fea961a958d8c0a51c6d7c7977ab5f9f/azureml_automl_core-1.0.43-py3-none-any.whl (1.8MB)\n",
      "Collecting dill>=0.2.8 (from azureml-train-automl==1.0.43.*; extra == \"automl\"->azureml-sdk[automl])\n",
      "  Downloading https://files.pythonhosted.org/packages/fe/42/bfe2e0857bc284cbe6a011d93f2a9ad58a22cb894461b199ae72cfef0f29/dill-0.2.9.tar.gz (150kB)\n",
      "Collecting gensim (from azureml-train-automl==1.0.43.*; extra == \"automl\"->azureml-sdk[automl])\n",
      "  Downloading https://files.pythonhosted.org/packages/81/80/858ef502e80baa6384b75fd5c89f01074b791a13b830487f9e25bdce50ec/gensim-3.7.3.tar.gz (23.4MB)\n",
      "Collecting nimbusml==0.6.5; python_version < \"3.7\" (from azureml-train-automl==1.0.43.*; extra == \"automl\"->azureml-sdk[automl])\n",
      "  Downloading https://files.pythonhosted.org/packages/86/2b/c29b46fea28bf66a438bfef5e0f08ff225eb5be54faabdedd704001bf831/nimbusml-0.6.5-cp36-none-win_amd64.whl (44.7MB)\n",
      "Collecting resource>=0.1.8 (from azureml-train-automl==1.0.43.*; extra == \"automl\"->azureml-sdk[automl])\n",
      "  Downloading https://files.pythonhosted.org/packages/34/ad/9cd037c01c075f9a273c23557f8e71195d773d59d3881bbb26011d396c8b/Resource-0.2.1-py2.py3-none-any.whl\n",
      "Collecting onnxconverter-common==1.4.2; python_version < \"3.7\" (from azureml-train-automl==1.0.43.*; extra == \"automl\"->azureml-sdk[automl])\n",
      "  Downloading https://files.pythonhosted.org/packages/f5/f6/594f371b65e93aaa204bfbdd45fb4074f8188fb6ec348fdaf098adc8e3f3/onnxconverter_common-1.4.2-py2.py3-none-any.whl\n",
      "Collecting pandas<=0.23.4,>=0.21.0 (from azureml-train-automl==1.0.43.*; extra == \"automl\"->azureml-sdk[automl])\n",
      "  Downloading https://files.pythonhosted.org/packages/0e/67/def5bfaf4d3324fdb89048889ec523c0903c5efab1a64c8dbe0ac8eec13c/pandas-0.23.4-cp36-cp36m-win_amd64.whl (7.7MB)\n",
      "Collecting azureml-telemetry==1.0.43.* (from azureml-train-automl==1.0.43.*; extra == \"automl\"->azureml-sdk[automl])\n",
      "  Downloading https://files.pythonhosted.org/packages/67/f8/d6552dad1c72e00c45bfe5b46f3ff5db79f09a6de4094cbe327e675cbb46/azureml_telemetry-1.0.43.1-py3-none-any.whl\n",
      "Collecting azureml-train-restclients-hyperdrive==1.0.43.* (from azureml-train-core==1.0.43.*->azureml-train==1.0.43.*->azureml-sdk[automl])\n",
      "  Downloading https://files.pythonhosted.org/packages/14/1f/5a08797b00e0a70fd0420311bb809a740175a1700dc405a84616c62b622d/azureml_train_restclients_hyperdrive-1.0.43-py3-none-any.whl\n",
      "Requirement already satisfied, skipping upgrade: distro>=1.2.0 in c:\\users\\dell\\miniconda3\\envs\\dsi03-inference\\lib\\site-packages (from dotnetcore2==2.1.8->azureml-dataprep<1.2.0a,>=1.1.3a->azureml-sdk[automl]) (1.4.0)\n",
      "Collecting asn1crypto>=0.21.0 (from cryptography!=1.9,!=2.0.*,!=2.1.*,!=2.2.*->azureml-core==1.0.43.*->azureml-sdk[automl])\n",
      "  Downloading https://files.pythonhosted.org/packages/ea/cd/35485615f45f30a510576f1a56d1e0a7ad7bd8ab5ed7cdc600ef7cd06222/asn1crypto-0.24.0-py2.py3-none-any.whl (101kB)\n",
      "Collecting cffi!=1.11.3,>=1.8 (from cryptography!=1.9,!=2.0.*,!=2.1.*,!=2.2.*->azureml-core==1.0.43.*->azureml-sdk[automl])\n",
      "  Downloading https://files.pythonhosted.org/packages/f1/b5/ca3583cbf7975f53b030be773caeabd4e19bac467714e525eaff447a8ac8/cffi-1.12.3-cp36-cp36m-win_amd64.whl (171kB)\n",
      "Collecting idna<2.9,>=2.5 (from requests>=2.19.1->azureml-core==1.0.43.*->azureml-sdk[automl])\n",
      "  Using cached https://files.pythonhosted.org/packages/14/2c/cd551d81dbe15200be1cf41cd03869a46fe7226e7450af7a6545bfc474c9/idna-2.8-py2.py3-none-any.whl\n",
      "Requirement already satisfied, skipping upgrade: certifi>=2017.4.17 in c:\\users\\dell\\miniconda3\\envs\\dsi03-inference\\lib\\site-packages (from requests>=2.19.1->azureml-core==1.0.43.*->azureml-sdk[automl]) (2019.6.16)\n",
      "Collecting chardet<3.1.0,>=3.0.2 (from requests>=2.19.1->azureml-core==1.0.43.*->azureml-sdk[automl])\n",
      "  Using cached https://files.pythonhosted.org/packages/bc/a9/01ffebfb562e4274b6487b4bb1ddec7ca55ec7510b22e4c51f14098443b8/chardet-3.0.4-py2.py3-none-any.whl\n",
      "Collecting jeepney (from SecretStorage->azureml-core==1.0.43.*->azureml-sdk[automl])\n",
      "  Downloading https://files.pythonhosted.org/packages/2b/f7/ff23b9b59534f501d47c327576aadda59da5b83d76ff837e6075bc325b9f/jeepney-0.4-py3-none-any.whl (59kB)\n",
      "Collecting backports.weakref (from backports.tempfile->azureml-core==1.0.43.*->azureml-sdk[automl])\n",
      "  Downloading https://files.pythonhosted.org/packages/88/ec/f598b633c3d5ffe267aaada57d961c94fdfa183c5c3ebda2b6d151943db6/backports.weakref-1.0.post1-py2.py3-none-any.whl\n",
      "Collecting isodate>=0.6.0 (from msrest>=0.5.1->azureml-core==1.0.43.*->azureml-sdk[automl])\n",
      "  Downloading https://files.pythonhosted.org/packages/9b/9f/b36f7774ff5ea8e428fdcfc4bb332c39ee5b9362ddd3d40d9516a55221b2/isodate-0.6.0-py2.py3-none-any.whl (45kB)\n",
      "Collecting requests-oauthlib>=0.5.0 (from msrest>=0.5.1->azureml-core==1.0.43.*->azureml-sdk[automl])\n",
      "  Downloading https://files.pythonhosted.org/packages/c2/e2/9fd03d55ffb70fe51f587f20bcf407a6927eb121de86928b34d162f0b1ac/requests_oauthlib-1.2.0-py2.py3-none-any.whl\n",
      "Collecting pyasn1>=0.1.1 (from ndg-httpsclient->azureml-core==1.0.43.*->azureml-sdk[automl])\n",
      "  Downloading https://files.pythonhosted.org/packages/7b/7c/c9386b82a25115cccf1903441bba3cbadcfae7b678a20167347fa8ded34c/pyasn1-0.4.5-py2.py3-none-any.whl (73kB)\n",
      "Collecting websocket-client>=0.32.0 (from docker->azureml-core==1.0.43.*->azureml-sdk[automl])\n",
      "  Downloading https://files.pythonhosted.org/packages/29/19/44753eab1fdb50770ac69605527e8859468f3c0fd7dc5a76dd9c4dbd7906/websocket_client-0.56.0-py2.py3-none-any.whl (200kB)\n",
      "Collecting pypiwin32==223; sys_platform == \"win32\" and python_version >= \"3.6\" (from docker->azureml-core==1.0.43.*->azureml-sdk[automl])\n",
      "  Downloading https://files.pythonhosted.org/packages/d0/1b/2f292bbd742e369a100c91faa0483172cd91a1a422a6692055ac920946c5/pypiwin32-223-py3-none-any.whl\n",
      "Requirement already satisfied, skipping upgrade: protobuf in c:\\users\\dell\\miniconda3\\envs\\dsi03-inference\\lib\\site-packages (from skl2onnx==1.4.9; python_version < \"3.7\"->azureml-train-automl==1.0.43.*; extra == \"automl\"->azureml-sdk[automl]) (3.6.1)\n",
      "Collecting onnx>=1.2.1 (from skl2onnx==1.4.9; python_version < \"3.7\"->azureml-train-automl==1.0.43.*; extra == \"automl\"->azureml-sdk[automl])\n",
      "  Downloading https://files.pythonhosted.org/packages/3f/41/9aa92855b551022b11e6684d0f2e24eafed6899424f8c932d9be336a8fa7/onnx-1.5.0-cp36-cp36m-win_amd64.whl (4.1MB)\n",
      "Collecting keras2onnx (from onnxmltools==1.4.1; python_version < \"3.7\"->azureml-train-automl==1.0.43.*; extra == \"automl\"->azureml-sdk[automl])\n",
      "  Downloading https://files.pythonhosted.org/packages/1a/b0/6f3012cb0c959203dd3ce05e0fc61c9112f0d4043fdf917cf665d8c53254/keras2onnx-1.5.0-py3-none-any.whl (186kB)\n",
      "Collecting smart_open>=1.7.0 (from gensim->azureml-train-automl==1.0.43.*; extra == \"automl\"->azureml-sdk[automl])\n",
      "  Downloading https://files.pythonhosted.org/packages/37/c0/25d19badc495428dec6a4bf7782de617ee0246a9211af75b302a2681dea7/smart_open-1.8.4.tar.gz (63kB)\n",
      "Collecting JsonForm>=0.0.2 (from resource>=0.1.8->azureml-train-automl==1.0.43.*; extra == \"automl\"->azureml-sdk[automl])\n",
      "  Downloading https://files.pythonhosted.org/packages/4f/b7/b9491ba4b709d0616fab15a89f8efe4d3a7924652e1fdd4f15303e9ecdf0/JsonForm-0.0.2.tar.gz\n",
      "Collecting python-easyconfig>=0.1.0 (from resource>=0.1.8->azureml-train-automl==1.0.43.*; extra == \"automl\"->azureml-sdk[automl])\n",
      "  Downloading https://files.pythonhosted.org/packages/b1/86/1138081cca360a02066eedaf301d0f358c35e0e0d67572acf9d6354edca9/Python_EasyConfig-0.1.7-py2.py3-none-any.whl\n",
      "Collecting JsonSir>=0.0.2 (from resource>=0.1.8->azureml-train-automl==1.0.43.*; extra == \"automl\"->azureml-sdk[automl])\n",
      "  Downloading https://files.pythonhosted.org/packages/aa/bf/5c00c1dafaa3ca2c32e7641d9c2c6f9d6d76e127bde00eb600333a60c5bc/JsonSir-0.0.2.tar.gz\n",
      "Collecting applicationinsights (from azureml-telemetry==1.0.43.*->azureml-train-automl==1.0.43.*; extra == \"automl\"->azureml-sdk[automl])\n",
      "  Downloading https://files.pythonhosted.org/packages/a1/53/234c53004f71f0717d8acd37876e0b65c121181167057b9ce1b1795f96a0/applicationinsights-0.11.9-py2.py3-none-any.whl (58kB)\n",
      "Collecting pycparser (from cffi!=1.11.3,>=1.8->cryptography!=1.9,!=2.0.*,!=2.1.*,!=2.2.*->azureml-core==1.0.43.*->azureml-sdk[automl])\n",
      "  Downloading https://files.pythonhosted.org/packages/68/9e/49196946aee219aead1290e00d1e7fdeab8567783e83e1b9ab5585e6206a/pycparser-2.19.tar.gz (158kB)\n",
      "Collecting oauthlib>=3.0.0 (from requests-oauthlib>=0.5.0->msrest>=0.5.1->azureml-core==1.0.43.*->azureml-sdk[automl])\n",
      "  Downloading https://files.pythonhosted.org/packages/16/95/699466b05b72b94a41f662dc9edf87fda4289e3602ecd42d27fcaddf7b56/oauthlib-3.0.1-py2.py3-none-any.whl (142kB)\n",
      "Collecting pywin32>=223 (from pypiwin32==223; sys_platform == \"win32\" and python_version >= \"3.6\"->docker->azureml-core==1.0.43.*->azureml-sdk[automl])\n",
      "  Downloading https://files.pythonhosted.org/packages/b2/1a/7727b406391b0178b6ccb7e447e963df5ebf1ce9e0f615fc6ce23b6f6753/pywin32-224-cp36-cp36m-win_amd64.whl (9.1MB)\n",
      "Requirement already satisfied, skipping upgrade: setuptools in c:\\users\\dell\\miniconda3\\envs\\dsi03-inference\\lib\\site-packages (from protobuf->skl2onnx==1.4.9; python_version < \"3.7\"->azureml-train-automl==1.0.43.*; extra == \"automl\"->azureml-sdk[automl]) (41.0.1)\n",
      "Collecting typing-extensions>=3.6.2.1 (from onnx>=1.2.1->skl2onnx==1.4.9; python_version < \"3.7\"->azureml-train-automl==1.0.43.*; extra == \"automl\"->azureml-sdk[automl])\n",
      "  Downloading https://files.pythonhosted.org/packages/27/aa/bd1442cfb0224da1b671ab334d3b0a4302e4161ea916e28904ff9618d471/typing_extensions-3.7.4-py3-none-any.whl\n",
      "Collecting typing>=3.6.4 (from onnx>=1.2.1->skl2onnx==1.4.9; python_version < \"3.7\"->azureml-train-automl==1.0.43.*; extra == \"automl\"->azureml-sdk[automl])\n",
      "  Downloading https://files.pythonhosted.org/packages/28/b8/a1d6b7cf322f91305bcb5e7d8f6c3028954d1e3e716cddc1cdce2ac63247/typing-3.7.4-py3-none-any.whl\n",
      "Collecting keras (from keras2onnx->onnxmltools==1.4.1; python_version < \"3.7\"->azureml-train-automl==1.0.43.*; extra == \"automl\"->azureml-sdk[automl])\n",
      "  Downloading https://files.pythonhosted.org/packages/5e/10/aa32dad071ce52b5502266b5c659451cfd6ffcbf14e6c8c4f16c0ff5aaab/Keras-2.2.4-py2.py3-none-any.whl (312kB)\n",
      "Collecting boto>=2.32 (from smart_open>=1.7.0->gensim->azureml-train-automl==1.0.43.*; extra == \"automl\"->azureml-sdk[automl])\n",
      "  Downloading https://files.pythonhosted.org/packages/23/10/c0b78c27298029e4454a472a1919bde20cb182dab1662cec7f2ca1dcc523/boto-2.49.0-py2.py3-none-any.whl (1.4MB)\n",
      "Collecting boto3 (from smart_open>=1.7.0->gensim->azureml-train-automl==1.0.43.*; extra == \"automl\"->azureml-sdk[automl])\n",
      "  Downloading https://files.pythonhosted.org/packages/fd/0c/e22c49b7c53d8002bd41f9ad2dc22fe44bfd0f918d35d2c912c39a3e6116/boto3-1.9.174-py2.py3-none-any.whl (128kB)\n",
      "Collecting jsonschema (from JsonForm>=0.0.2->resource>=0.1.8->azureml-train-automl==1.0.43.*; extra == \"automl\"->azureml-sdk[automl])\n",
      "  Using cached https://files.pythonhosted.org/packages/aa/69/df679dfbdd051568b53c38ec8152a3ab6bc533434fc7ed11ab034bf5e82f/jsonschema-3.0.1-py2.py3-none-any.whl\n",
      "Collecting PyYAML (from python-easyconfig>=0.1.0->resource>=0.1.8->azureml-train-automl==1.0.43.*; extra == \"automl\"->azureml-sdk[automl])\n",
      "  Downloading https://files.pythonhosted.org/packages/71/f7/5513e0982417c0a497b5194cc975831755447ab5e64c5fe4c877c1706a7a/PyYAML-5.1.1-cp36-cp36m-win_amd64.whl (214kB)\n",
      "Requirement already satisfied, skipping upgrade: keras-preprocessing>=1.0.5 in c:\\users\\dell\\miniconda3\\envs\\dsi03-inference\\lib\\site-packages (from keras->keras2onnx->onnxmltools==1.4.1; python_version < \"3.7\"->azureml-train-automl==1.0.43.*; extra == \"automl\"->azureml-sdk[automl]) (1.0.9)\n",
      "Requirement already satisfied, skipping upgrade: keras-applications>=1.0.6 in c:\\users\\dell\\miniconda3\\envs\\dsi03-inference\\lib\\site-packages (from keras->keras2onnx->onnxmltools==1.4.1; python_version < \"3.7\"->azureml-train-automl==1.0.43.*; extra == \"automl\"->azureml-sdk[automl]) (1.0.7)\n",
      "Requirement already satisfied, skipping upgrade: h5py in c:\\users\\dell\\miniconda3\\envs\\dsi03-inference\\lib\\site-packages (from keras->keras2onnx->onnxmltools==1.4.1; python_version < \"3.7\"->azureml-train-automl==1.0.43.*; extra == \"automl\"->azureml-sdk[automl]) (2.9.0)\n",
      "Collecting s3transfer<0.3.0,>=0.2.0 (from boto3->smart_open>=1.7.0->gensim->azureml-train-automl==1.0.43.*; extra == \"automl\"->azureml-sdk[automl])\n",
      "  Downloading https://files.pythonhosted.org/packages/16/8a/1fc3dba0c4923c2a76e1ff0d52b305c44606da63f718d14d3231e21c51b0/s3transfer-0.2.1-py2.py3-none-any.whl (70kB)\n",
      "Collecting botocore<1.13.0,>=1.12.174 (from boto3->smart_open>=1.7.0->gensim->azureml-train-automl==1.0.43.*; extra == \"automl\"->azureml-sdk[automl])\n",
      "  Downloading https://files.pythonhosted.org/packages/32/74/fcca5254234a55517d1016d8e0e342a53a642ff3216d156416abeedef3ea/botocore-1.12.174-py2.py3-none-any.whl (5.6MB)\n",
      "Collecting attrs>=17.4.0 (from jsonschema->JsonForm>=0.0.2->resource>=0.1.8->azureml-train-automl==1.0.43.*; extra == \"automl\"->azureml-sdk[automl])\n",
      "  Using cached https://files.pythonhosted.org/packages/23/96/d828354fa2dbdf216eaa7b7de0db692f12c234f7ef888cc14980ef40d1d2/attrs-19.1.0-py2.py3-none-any.whl\n",
      "Collecting pyrsistent>=0.14.0 (from jsonschema->JsonForm>=0.0.2->resource>=0.1.8->azureml-train-automl==1.0.43.*; extra == \"automl\"->azureml-sdk[automl])\n",
      "  Downloading https://files.pythonhosted.org/packages/68/0b/f514e76b4e074386b60cfc6c8c2d75ca615b81e415417ccf3fac80ae0bf6/pyrsistent-0.15.2.tar.gz (106kB)\n",
      "Collecting docutils>=0.10 (from botocore<1.13.0,>=1.12.174->boto3->smart_open>=1.7.0->gensim->azureml-train-automl==1.0.43.*; extra == \"automl\"->azureml-sdk[automl])\n",
      "  Downloading https://files.pythonhosted.org/packages/36/fa/08e9e6e0e3cbd1d362c3bbee8d01d0aedb2155c4ac112b19ef3cae8eed8d/docutils-0.14-py3-none-any.whl (543kB)\n",
      "Building wheels for collected packages: pathspec, dill, gensim, smart-open, JsonForm, JsonSir, pycparser, pyrsistent\n",
      "  Building wheel for pathspec (setup.py): started\n",
      "  Building wheel for pathspec (setup.py): finished with status 'done'\n",
      "  Stored in directory: C:\\Users\\Dell\\AppData\\Local\\pip\\Cache\\wheels\\45\\cb\\7e\\ce6e6062c69446e39e328170524ca8213498bc66a74c6a210b\n",
      "  Building wheel for dill (setup.py): started\n",
      "  Building wheel for dill (setup.py): finished with status 'done'\n",
      "  Stored in directory: C:\\Users\\Dell\\AppData\\Local\\pip\\Cache\\wheels\\5b\\d7\\0f\\e58eae695403de585269f4e4a94e0cd6ca60ec0c202936fa4a\n",
      "  Building wheel for gensim (setup.py): started\n",
      "  Building wheel for gensim (setup.py): finished with status 'done'\n",
      "  Stored in directory: C:\\Users\\Dell\\AppData\\Local\\pip\\Cache\\wheels\\73\\6b\\89\\bb14fd56b74774a39a771a12f525a6a14c2c2692d3084ad048\n",
      "  Building wheel for smart-open (setup.py): started\n",
      "  Building wheel for smart-open (setup.py): finished with status 'done'\n",
      "  Stored in directory: C:\\Users\\Dell\\AppData\\Local\\pip\\Cache\\wheels\\5f\\ea\\fb\\5b1a947b369724063b2617011f1540c44eb00e28c3d2ca8692\n",
      "  Building wheel for JsonForm (setup.py): started\n",
      "  Building wheel for JsonForm (setup.py): finished with status 'done'\n",
      "  Stored in directory: C:\\Users\\Dell\\AppData\\Local\\pip\\Cache\\wheels\\e8\\74\\51\\42c2d41c02bdc6f0e604476b7e4293b8c98d0bcbfa1dff78c8\n",
      "  Building wheel for JsonSir (setup.py): started\n",
      "  Building wheel for JsonSir (setup.py): finished with status 'done'\n",
      "  Stored in directory: C:\\Users\\Dell\\AppData\\Local\\pip\\Cache\\wheels\\ee\\30\\5c\\3a3b5e1386c8db9a3be5f5c3933644ae0533c1351c6a8eb4b5\n",
      "  Building wheel for pycparser (setup.py): started\n",
      "  Building wheel for pycparser (setup.py): finished with status 'done'\n",
      "  Stored in directory: C:\\Users\\Dell\\AppData\\Local\\pip\\Cache\\wheels\\f2\\9a\\90\\de94f8556265ddc9d9c8b271b0f63e57b26fb1d67a45564511\n",
      "  Building wheel for pyrsistent (setup.py): started\n",
      "  Building wheel for pyrsistent (setup.py): finished with status 'done'\n",
      "  Stored in directory: C:\\Users\\Dell\\AppData\\Local\\pip\\Cache\\wheels\\6b\\b9\\15\\c8c6a1e095a370e8c3273e65a5c982e5cf355dde16d77502f5\n",
      "Successfully built pathspec dill gensim smart-open JsonForm JsonSir pycparser pyrsistent\n",
      "Installing collected packages: isodate, urllib3, idna, chardet, requests, oauthlib, requests-oauthlib, msrest, asn1crypto, pycparser, cffi, cryptography, PyJWT, adal, msrestazure, azureml-train-restclients-hyperdrive, applicationinsights, azureml-telemetry, azure-common, azure-mgmt-resource, jeepney, SecretStorage, backports.weakref, backports.tempfile, azure-graphrbac, jmespath, contextlib2, azure-mgmt-containerregistry, pathspec, jsonpickle, ruamel.yaml, pyopenssl, azure-mgmt-storage, azure-mgmt-authorization, pyasn1, ndg-httpsclient, websocket-client, pywin32, pypiwin32, docker, azure-mgmt-keyvault, azureml-core, azureml-train-core, azureml-train, azureml-dataprep-native, azureml-dataprep, azureml-pipeline-core, azureml-pipeline-steps, azureml-pipeline, numpy, scipy, scikit-learn, pandas, sklearn-pandas, statsmodels, wheel, patsy, lightgbm, typing-extensions, typing, onnx, onnxconverter-common, skl2onnx, PyYAML, keras, keras2onnx, onnxmltools, nimbusml, dill, boto, docutils, botocore, s3transfer, boto3, smart-open, gensim, attrs, pyrsistent, jsonschema, JsonForm, python-easyconfig, JsonSir, resource, azureml-automl-core, azureml-train-automl, azureml-sdk\n",
      "  Found existing installation: azureml-dataprep-native 12.0.1\n",
      "    Uninstalling azureml-dataprep-native-12.0.1:\n",
      "      Successfully uninstalled azureml-dataprep-native-12.0.1\n",
      "  Found existing installation: azureml-dataprep 1.1.2\n",
      "    Uninstalling azureml-dataprep-1.1.2:\n",
      "      Successfully uninstalled azureml-dataprep-1.1.2\n",
      "  Found existing installation: numpy 1.16.3\n",
      "    Uninstalling numpy-1.16.3:\n",
      "      Successfully uninstalled numpy-1.16.3\n",
      "  Found existing installation: scipy 1.2.1\n",
      "    Uninstalling scipy-1.2.1:\n",
      "      Successfully uninstalled scipy-1.2.1\n",
      "  Found existing installation: scikit-learn 0.21.2\n",
      "    Uninstalling scikit-learn-0.21.2:\n",
      "      Successfully uninstalled scikit-learn-0.21.2\n",
      "  Found existing installation: pandas 0.24.2\n",
      "    Uninstalling pandas-0.24.2:\n",
      "      Successfully uninstalled pandas-0.24.2\n",
      "  Found existing installation: wheel 0.33.1\n",
      "    Uninstalling wheel-0.33.1:\n",
      "      Successfully uninstalled wheel-0.33.1\n",
      "Successfully installed JsonForm-0.0.2 JsonSir-0.0.2 PyJWT-1.7.1 PyYAML-5.1.1 SecretStorage-3.1.1 adal-1.2.1 applicationinsights-0.11.9 asn1crypto-0.24.0 attrs-19.1.0 azure-common-1.1.22 azure-graphrbac-0.61.1 azure-mgmt-authorization-0.52.0 azure-mgmt-containerregistry-2.8.0 azure-mgmt-keyvault-2.0.0 azure-mgmt-resource-3.0.0 azure-mgmt-storage-4.0.0 azureml-automl-core-1.0.43 azureml-core-1.0.43.1 azureml-dataprep-1.1.5 azureml-dataprep-native-13.0.0 azureml-pipeline-1.0.43 azureml-pipeline-core-1.0.43 azureml-pipeline-steps-1.0.43 azureml-sdk-1.0.43 azureml-telemetry-1.0.43.1 azureml-train-1.0.43 azureml-train-automl-1.0.43.1 azureml-train-core-1.0.43 azureml-train-restclients-hyperdrive-1.0.43 backports.tempfile-1.0 backports.weakref-1.0.post1 boto-2.49.0 boto3-1.9.174 botocore-1.12.174 cffi-1.12.3 chardet-3.0.4 contextlib2-0.5.5 cryptography-2.7 dill-0.2.9 docker-4.0.2 docutils-0.14 gensim-3.7.3 idna-2.8 isodate-0.6.0 jeepney-0.4 jmespath-0.9.4 jsonpickle-1.2 jsonschema-3.0.1 keras-2.2.4 keras2onnx-1.5.0 lightgbm-2.2.1 msrest-0.6.7 msrestazure-0.6.1 ndg-httpsclient-0.5.1 nimbusml-0.6.5 numpy-1.16.2 oauthlib-3.0.1 onnx-1.5.0 onnxconverter-common-1.4.2 onnxmltools-1.4.1 pandas-0.23.4 pathspec-0.5.9 patsy-0.5.1 pyasn1-0.4.5 pycparser-2.19 pyopenssl-19.0.0 pypiwin32-223 pyrsistent-0.15.2 python-easyconfig-0.1.7 pywin32-224 requests-2.22.0 requests-oauthlib-1.2.0 resource-0.2.1 ruamel.yaml-0.15.89 s3transfer-0.2.1 scikit-learn-0.20.3 scipy-1.1.0 skl2onnx-1.4.9 sklearn-pandas-1.7.0 smart-open-1.8.4 statsmodels-0.9.0 typing-3.7.4 typing-extensions-3.7.4 urllib3-1.25.3 websocket-client-0.56.0 wheel-0.30.0\n"
     ]
    },
    {
     "name": "stderr",
     "output_type": "stream",
     "text": [
      "ERROR: keras2onnx 1.5.0 has requirement onnxconverter-common>=1.5.0, but you'll have onnxconverter-common 1.4.2 which is incompatible.\n"
     ]
    }
   ],
   "source": [
    "! pip install --upgrade azureml-sdk[automl]"
   ]
  },
  {
   "cell_type": "code",
   "execution_count": 6,
   "metadata": {},
   "outputs": [
    {
     "name": "stdout",
     "output_type": "stream",
     "text": [
      "Collecting azureml-sdk[notebooks]\n",
      "  Using cached https://files.pythonhosted.org/packages/75/5d/b9a03efc12c2d18bac509cc8754c3015ee70a50749a63f3b1ba0070c01de/azureml_sdk-1.0.43-py3-none-any.whl\n",
      "Collecting azureml-dataprep<1.2.0a,>=1.1.3a (from azureml-sdk[notebooks])\n",
      "  Using cached https://files.pythonhosted.org/packages/bd/ec/dd8521421adaf64264aa26ab31a8be4ffd01c29d0600497eed7b955868ac/azureml_dataprep-1.1.5-py3-none-any.whl\n",
      "Collecting azureml-core==1.0.43.* (from azureml-sdk[notebooks])\n",
      "  Using cached https://files.pythonhosted.org/packages/f6/b2/ba8fde6c28251cec7fee4f6040ba13476a42ecbc138785bf958a5f500704/azureml_core-1.0.43.1-py2.py3-none-any.whl\n",
      "Collecting azureml-pipeline==1.0.43.* (from azureml-sdk[notebooks])\n",
      "  Using cached https://files.pythonhosted.org/packages/67/31/9266e565b2965616ed694aabb70f035f01627f8e7cfeff48553c3631f0d7/azureml_pipeline-1.0.43-py3-none-any.whl\n",
      "Collecting azureml-train==1.0.43.* (from azureml-sdk[notebooks])\n",
      "  Using cached https://files.pythonhosted.org/packages/67/e4/b5a3d84ac40ceaf4203ca0ef0629e8de9c27edefd9ba0e7c32f5630f1930/azureml_train-1.0.43-py3-none-any.whl\n",
      "Collecting azureml-contrib-notebook==1.0.43.*; extra == \"notebooks\" (from azureml-sdk[notebooks])\n",
      "  Downloading https://files.pythonhosted.org/packages/95/4e/12dedbe3731a96556c960f0bddad933d84a02c25bc1d6189443e02ea4f60/azureml_contrib_notebook-1.0.43-py2.py3-none-any.whl\n",
      "Collecting azureml-widgets==1.0.43.*; extra == \"notebooks\" (from azureml-sdk[notebooks])\n",
      "  Downloading https://files.pythonhosted.org/packages/ed/a8/296cac2d50a5d491a28199c45a165056ff3c8cf5c85425cc7f3b9f72a7c9/azureml_widgets-1.0.43.1-py3-none-any.whl (5.2MB)\n",
      "Collecting dotnetcore2==2.1.8 (from azureml-dataprep<1.2.0a,>=1.1.3a->azureml-sdk[notebooks])\n",
      "  Using cached https://files.pythonhosted.org/packages/c5/c3/bc3a19571a7c23ed49becd692511347d77bb069aacea4cbabdedb27e94f9/dotnetcore2-2.1.8-py3-none-win_amd64.whl\n",
      "Collecting azureml-dataprep-native<14.0.0,>=13.0.0 (from azureml-dataprep<1.2.0a,>=1.1.3a->azureml-sdk[notebooks])\n",
      "  Downloading https://files.pythonhosted.org/packages/ab/3a/430c81d2ad0cf15103e1bbba09e728d726fcdd360b7769914d61ef1e6594/azureml_dataprep_native-13.0.0-cp37-cp37m-win_amd64.whl (885kB)\n",
      "Collecting jmespath (from azureml-core==1.0.43.*->azureml-sdk[notebooks])\n",
      "  Using cached https://files.pythonhosted.org/packages/83/94/7179c3832a6d45b266ddb2aac329e101367fbdb11f425f13771d27f225bb/jmespath-0.9.4-py2.py3-none-any.whl\n",
      "Collecting azure-mgmt-containerregistry>=2.0.0 (from azureml-core==1.0.43.*->azureml-sdk[notebooks])\n",
      "  Using cached https://files.pythonhosted.org/packages/97/70/8c2d0509db466678eba16fa2b0a539499f3b351b1f2993126ad843d5be13/azure_mgmt_containerregistry-2.8.0-py2.py3-none-any.whl\n",
      "Collecting backports.tempfile (from azureml-core==1.0.43.*->azureml-sdk[notebooks])\n",
      "  Using cached https://files.pythonhosted.org/packages/b4/5c/077f910632476281428fe254807952eb47ca78e720d059a46178c541e669/backports.tempfile-1.0-py2.py3-none-any.whl\n",
      "Collecting azure-mgmt-storage>=1.5.0 (from azureml-core==1.0.43.*->azureml-sdk[notebooks])\n",
      "  Using cached https://files.pythonhosted.org/packages/8c/03/62c3ed229b9b83fbf4dcd56ae27d5d835f3bd921004c09a478729c221fff/azure_mgmt_storage-4.0.0-py2.py3-none-any.whl\n",
      "Collecting msrest>=0.5.1 (from azureml-core==1.0.43.*->azureml-sdk[notebooks])\n",
      "  Using cached https://files.pythonhosted.org/packages/9a/23/eea6c1fce5b24366b48f270c23f043f976eb0d4248eb3cb7e62b0f602bcd/msrest-0.6.7-py2.py3-none-any.whl\n",
      "Collecting ndg-httpsclient (from azureml-core==1.0.43.*->azureml-sdk[notebooks])\n",
      "  Using cached https://files.pythonhosted.org/packages/fb/67/c2f508c00ed2a6911541494504b7cac16fe0b0473912568df65fd1801132/ndg_httpsclient-0.5.1-py3-none-any.whl\n",
      "Collecting azure-mgmt-authorization>=0.40.0 (from azureml-core==1.0.43.*->azureml-sdk[notebooks])\n",
      "  Using cached https://files.pythonhosted.org/packages/6b/b2/c0d62a3a91c13641e09af294c13fe16929f88dc5902718388cd9b292217f/azure_mgmt_authorization-0.52.0-py2.py3-none-any.whl\n",
      "Collecting azure-mgmt-keyvault>=0.40.0 (from azureml-core==1.0.43.*->azureml-sdk[notebooks])\n",
      "  Using cached https://files.pythonhosted.org/packages/b3/d1/9fed0a3a3b43d0b1ad59599b5c836ccc4cf117e26458075385bafe79575b/azure_mgmt_keyvault-2.0.0-py2.py3-none-any.whl\n",
      "Requirement already satisfied: urllib3>=1.23 in c:\\users\\dell\\appdata\\local\\programs\\python\\python37\\lib\\site-packages (from azureml-core==1.0.43.*->azureml-sdk[notebooks]) (1.24.2)\n",
      "Collecting docker (from azureml-core==1.0.43.*->azureml-sdk[notebooks])\n",
      "  Using cached https://files.pythonhosted.org/packages/95/47/5560c9cf0c92b50da24216f0e7733250fbed5a497f69e3c70e1be62143fe/docker-4.0.2-py2.py3-none-any.whl\n",
      "Collecting ruamel.yaml<=0.15.89,>=0.15.35 (from azureml-core==1.0.43.*->azureml-sdk[notebooks])\n",
      "  Using cached https://files.pythonhosted.org/packages/52/a9/fc4cfd45ca1738452226a5b4e61edec121a54352363116faa14013e33f7a/ruamel.yaml-0.15.89-cp37-cp37m-win_amd64.whl\n",
      "Collecting PyJWT (from azureml-core==1.0.43.*->azureml-sdk[notebooks])\n",
      "  Using cached https://files.pythonhosted.org/packages/87/8b/6a9f14b5f781697e51259d81657e6048fd31a113229cf346880bb7545565/PyJWT-1.7.1-py2.py3-none-any.whl\n",
      "Requirement already satisfied: requests>=2.19.1 in c:\\users\\dell\\appdata\\local\\programs\\python\\python37\\lib\\site-packages (from azureml-core==1.0.43.*->azureml-sdk[notebooks]) (2.21.0)\n",
      "Collecting msrestazure>=0.4.33 (from azureml-core==1.0.43.*->azureml-sdk[notebooks])\n",
      "  Using cached https://files.pythonhosted.org/packages/0a/aa/b17a4f702ecd6d9e989ae34109aa384c988aed0de37215c651165ed45238/msrestazure-0.6.1-py2.py3-none-any.whl\n",
      "Requirement already satisfied: six>=1.11.0 in c:\\users\\dell\\appdata\\local\\programs\\python\\python37\\lib\\site-packages (from azureml-core==1.0.43.*->azureml-sdk[notebooks]) (1.12.0)\n",
      "Collecting azure-common>=1.1.12 (from azureml-core==1.0.43.*->azureml-sdk[notebooks])\n",
      "  Using cached https://files.pythonhosted.org/packages/e3/36/9946fa617f458f11766884c76c622810f4c111ee16c08eb8315e88330d66/azure_common-1.1.22-py2.py3-none-any.whl\n",
      "Collecting pyopenssl (from azureml-core==1.0.43.*->azureml-sdk[notebooks])\n",
      "  Using cached https://files.pythonhosted.org/packages/01/c8/ceb170d81bd3941cbeb9940fc6cc2ef2ca4288d0ca8929ea4db5905d904d/pyOpenSSL-19.0.0-py2.py3-none-any.whl\n",
      "Collecting azure-mgmt-resource>=1.2.1 (from azureml-core==1.0.43.*->azureml-sdk[notebooks])\n",
      "  Using cached https://files.pythonhosted.org/packages/97/1e/03813b5705b46d86d8d6d594930b78f14b13d901b5ca089152e06e67b680/azure_mgmt_resource-3.0.0-py2.py3-none-any.whl\n",
      "Collecting SecretStorage (from azureml-core==1.0.43.*->azureml-sdk[notebooks])\n",
      "  Using cached https://files.pythonhosted.org/packages/82/59/cb226752e20d83598d7fdcabd7819570b0329a61db07cfbdd21b2ef546e3/SecretStorage-3.1.1-py3-none-any.whl\n",
      "Collecting azure-graphrbac>=0.40.0 (from azureml-core==1.0.43.*->azureml-sdk[notebooks])\n",
      "  Using cached https://files.pythonhosted.org/packages/3e/93/02056aca45162f9fc275d1eaad12a2a07ef92375afb48eabddc4134b8315/azure_graphrbac-0.61.1-py2.py3-none-any.whl\n",
      "Collecting adal>=1.2.0 (from azureml-core==1.0.43.*->azureml-sdk[notebooks])\n",
      "  Using cached https://files.pythonhosted.org/packages/00/72/53dce9e4f5d6c1aa57b8d408cb34dff1969ecbf10ab7e678f32c5e0e2397/adal-1.2.1-py2.py3-none-any.whl\n",
      "Requirement already satisfied: pytz in c:\\users\\dell\\appdata\\local\\programs\\python\\python37\\lib\\site-packages (from azureml-core==1.0.43.*->azureml-sdk[notebooks]) (2019.1)\n",
      "Collecting jsonpickle (from azureml-core==1.0.43.*->azureml-sdk[notebooks])\n",
      "  Using cached https://files.pythonhosted.org/packages/07/07/c157520a3ebd166c8c24c6ae0ecae7c3968eb4653ff0e5af369bb82f004d/jsonpickle-1.2-py2.py3-none-any.whl\n",
      "Collecting pathspec (from azureml-core==1.0.43.*->azureml-sdk[notebooks])\n",
      "  Using cached https://files.pythonhosted.org/packages/84/2a/bfee636b1e2f7d6e30dd74f49201ccfa5c3cf322d44929ecc6c137c486c5/pathspec-0.5.9.tar.gz\n",
      "Collecting cryptography!=1.9,!=2.0.*,!=2.1.*,!=2.2.* (from azureml-core==1.0.43.*->azureml-sdk[notebooks])\n",
      "  Using cached https://files.pythonhosted.org/packages/33/73/fc8c85104bd316086a7717d4970aec5e05fafcd6b9bf7257fe3621b180a0/cryptography-2.7-cp37-cp37m-win_amd64.whl\n",
      "Collecting contextlib2 (from azureml-core==1.0.43.*->azureml-sdk[notebooks])\n",
      "  Using cached https://files.pythonhosted.org/packages/a2/71/8273a7eeed0aff6a854237ab5453bc9aa67deb49df4832801c21f0ff3782/contextlib2-0.5.5-py2.py3-none-any.whl\n",
      "Requirement already satisfied: python-dateutil>=2.7.3 in c:\\users\\dell\\appdata\\local\\programs\\python\\python37\\lib\\site-packages (from azureml-core==1.0.43.*->azureml-sdk[notebooks]) (2.8.0)\n",
      "Collecting azureml-pipeline-steps==1.0.43.* (from azureml-pipeline==1.0.43.*->azureml-sdk[notebooks])\n",
      "  Using cached https://files.pythonhosted.org/packages/b9/24/917523741c7d18f4f7447b1e3e8bd00ef97a26f1991426e90ec64d90834a/azureml_pipeline_steps-1.0.43-py3-none-any.whl\n",
      "Collecting azureml-pipeline-core==1.0.43.* (from azureml-pipeline==1.0.43.*->azureml-sdk[notebooks])\n",
      "  Using cached https://files.pythonhosted.org/packages/bd/6a/a25969c71a37557f70d3a6fcf5b2e2047984daf4eb5bbb76ac4cd53fcf20/azureml_pipeline_core-1.0.43-py2.py3-none-any.whl\n",
      "Collecting azureml-train-core==1.0.43.* (from azureml-train==1.0.43.*->azureml-sdk[notebooks])\n",
      "  Using cached https://files.pythonhosted.org/packages/2c/af/e6f15c939c7275fe2e630fc9c502f4c0879acb28bd930fcac6083d597766/azureml_train_core-1.0.43-py3-none-any.whl\n",
      "Collecting papermill (from azureml-contrib-notebook==1.0.43.*; extra == \"notebooks\"->azureml-sdk[notebooks])\n",
      "  Downloading https://files.pythonhosted.org/packages/ca/24/439df82668c56567baeb1e09a17253eef92a2b93badde45bd71369bd8ecc/papermill-1.0.1-py2.py3-none-any.whl\n",
      "Requirement already satisfied: ipykernel in c:\\users\\dell\\appdata\\local\\programs\\python\\python37\\lib\\site-packages (from azureml-contrib-notebook==1.0.43.*; extra == \"notebooks\"->azureml-sdk[notebooks]) (5.1.0)\n",
      "Requirement already satisfied: ipython in c:\\users\\dell\\appdata\\local\\programs\\python\\python37\\lib\\site-packages (from azureml-contrib-notebook==1.0.43.*; extra == \"notebooks\"->azureml-sdk[notebooks]) (7.4.0)\n",
      "Collecting azureml-telemetry==1.0.43.* (from azureml-widgets==1.0.43.*; extra == \"notebooks\"->azureml-sdk[notebooks])\n",
      "  Using cached https://files.pythonhosted.org/packages/67/f8/d6552dad1c72e00c45bfe5b46f3ff5db79f09a6de4094cbe327e675cbb46/azureml_telemetry-1.0.43.1-py3-none-any.whl\n",
      "Requirement already satisfied: ipywidgets>=7.0.0 in c:\\users\\dell\\appdata\\local\\programs\\python\\python37\\lib\\site-packages (from azureml-widgets==1.0.43.*; extra == \"notebooks\"->azureml-sdk[notebooks]) (7.4.2)\n",
      "Collecting distro>=1.2.0 (from dotnetcore2==2.1.8->azureml-dataprep<1.2.0a,>=1.1.3a->azureml-sdk[notebooks])\n",
      "  Using cached https://files.pythonhosted.org/packages/ea/35/82f79b92fa4d937146c660a6482cee4f3dfa1f97ff3d2a6f3ecba33e712e/distro-1.4.0-py2.py3-none-any.whl\n",
      "Collecting backports.weakref (from backports.tempfile->azureml-core==1.0.43.*->azureml-sdk[notebooks])\n",
      "  Using cached https://files.pythonhosted.org/packages/88/ec/f598b633c3d5ffe267aaada57d961c94fdfa183c5c3ebda2b6d151943db6/backports.weakref-1.0.post1-py2.py3-none-any.whl\n",
      "Collecting isodate>=0.6.0 (from msrest>=0.5.1->azureml-core==1.0.43.*->azureml-sdk[notebooks])\n",
      "  Using cached https://files.pythonhosted.org/packages/9b/9f/b36f7774ff5ea8e428fdcfc4bb332c39ee5b9362ddd3d40d9516a55221b2/isodate-0.6.0-py2.py3-none-any.whl\n",
      "Requirement already satisfied: certifi>=2017.4.17 in c:\\users\\dell\\appdata\\local\\programs\\python\\python37\\lib\\site-packages (from msrest>=0.5.1->azureml-core==1.0.43.*->azureml-sdk[notebooks]) (2019.3.9)\n",
      "Collecting requests-oauthlib>=0.5.0 (from msrest>=0.5.1->azureml-core==1.0.43.*->azureml-sdk[notebooks])\n",
      "  Using cached https://files.pythonhosted.org/packages/c2/e2/9fd03d55ffb70fe51f587f20bcf407a6927eb121de86928b34d162f0b1ac/requests_oauthlib-1.2.0-py2.py3-none-any.whl\n",
      "Collecting pyasn1>=0.1.1 (from ndg-httpsclient->azureml-core==1.0.43.*->azureml-sdk[notebooks])\n",
      "  Using cached https://files.pythonhosted.org/packages/7b/7c/c9386b82a25115cccf1903441bba3cbadcfae7b678a20167347fa8ded34c/pyasn1-0.4.5-py2.py3-none-any.whl\n",
      "Collecting websocket-client>=0.32.0 (from docker->azureml-core==1.0.43.*->azureml-sdk[notebooks])\n",
      "  Using cached https://files.pythonhosted.org/packages/29/19/44753eab1fdb50770ac69605527e8859468f3c0fd7dc5a76dd9c4dbd7906/websocket_client-0.56.0-py2.py3-none-any.whl\n",
      "Collecting pypiwin32==223; sys_platform == \"win32\" and python_version >= \"3.6\" (from docker->azureml-core==1.0.43.*->azureml-sdk[notebooks])\n",
      "  Using cached https://files.pythonhosted.org/packages/d0/1b/2f292bbd742e369a100c91faa0483172cd91a1a422a6692055ac920946c5/pypiwin32-223-py3-none-any.whl\n",
      "Requirement already satisfied: chardet<3.1.0,>=3.0.2 in c:\\users\\dell\\appdata\\local\\programs\\python\\python37\\lib\\site-packages (from requests>=2.19.1->azureml-core==1.0.43.*->azureml-sdk[notebooks]) (3.0.4)\n",
      "Requirement already satisfied: idna<2.9,>=2.5 in c:\\users\\dell\\appdata\\local\\programs\\python\\python37\\lib\\site-packages (from requests>=2.19.1->azureml-core==1.0.43.*->azureml-sdk[notebooks]) (2.8)\n",
      "Collecting jeepney (from SecretStorage->azureml-core==1.0.43.*->azureml-sdk[notebooks])\n",
      "  Using cached https://files.pythonhosted.org/packages/2b/f7/ff23b9b59534f501d47c327576aadda59da5b83d76ff837e6075bc325b9f/jeepney-0.4-py3-none-any.whl\n",
      "Collecting asn1crypto>=0.21.0 (from cryptography!=1.9,!=2.0.*,!=2.1.*,!=2.2.*->azureml-core==1.0.43.*->azureml-sdk[notebooks])\n",
      "  Using cached https://files.pythonhosted.org/packages/ea/cd/35485615f45f30a510576f1a56d1e0a7ad7bd8ab5ed7cdc600ef7cd06222/asn1crypto-0.24.0-py2.py3-none-any.whl\n",
      "Collecting cffi!=1.11.3,>=1.8 (from cryptography!=1.9,!=2.0.*,!=2.1.*,!=2.2.*->azureml-core==1.0.43.*->azureml-sdk[notebooks])\n",
      "  Downloading https://files.pythonhosted.org/packages/2f/ad/9722b7752fdd88c858be57b47f41d1049b5fb0ab79caf0ab11407945c1a7/cffi-1.12.3-cp37-cp37m-win_amd64.whl (171kB)\n",
      "Collecting azureml-train-restclients-hyperdrive==1.0.43.* (from azureml-train-core==1.0.43.*->azureml-train==1.0.43.*->azureml-sdk[notebooks])\n",
      "  Using cached https://files.pythonhosted.org/packages/14/1f/5a08797b00e0a70fd0420311bb809a740175a1700dc405a84616c62b622d/azureml_train_restclients_hyperdrive-1.0.43-py3-none-any.whl\n",
      "Requirement already satisfied: future in c:\\users\\dell\\appdata\\local\\programs\\python\\python37\\lib\\site-packages (from papermill->azureml-contrib-notebook==1.0.43.*; extra == \"notebooks\"->azureml-sdk[notebooks]) (0.17.1)\n",
      "Collecting click (from papermill->azureml-contrib-notebook==1.0.43.*; extra == \"notebooks\"->azureml-sdk[notebooks])\n",
      "  Downloading https://files.pythonhosted.org/packages/fa/37/45185cb5abbc30d7257104c434fe0b07e5a195a6847506c074527aa599ec/Click-7.0-py2.py3-none-any.whl (81kB)\n",
      "Requirement already satisfied: pyyaml in c:\\users\\dell\\appdata\\local\\programs\\python\\python37\\lib\\site-packages (from papermill->azureml-contrib-notebook==1.0.43.*; extra == \"notebooks\"->azureml-sdk[notebooks]) (5.1)\n",
      "Collecting nbconvert>=5.5 (from papermill->azureml-contrib-notebook==1.0.43.*; extra == \"notebooks\"->azureml-sdk[notebooks])\n",
      "  Downloading https://files.pythonhosted.org/packages/35/e7/f46c9d65f149271e47fca6ab084ef5c6e4cb1870f4c5cce6690feac55231/nbconvert-5.5.0-py2.py3-none-any.whl (447kB)\n",
      "Collecting ansiwrap (from papermill->azureml-contrib-notebook==1.0.43.*; extra == \"notebooks\"->azureml-sdk[notebooks])\n",
      "  Downloading https://files.pythonhosted.org/packages/03/50/43e775a63e0d632d9be3b3fa1c9b2cbaf3b7870d203655710a3426f47c26/ansiwrap-0.8.4-py2.py3-none-any.whl\n",
      "Requirement already satisfied: entrypoints in c:\\users\\dell\\appdata\\local\\programs\\python\\python37\\lib\\site-packages (from papermill->azureml-contrib-notebook==1.0.43.*; extra == \"notebooks\"->azureml-sdk[notebooks]) (0.3)\n",
      "Collecting tenacity (from papermill->azureml-contrib-notebook==1.0.43.*; extra == \"notebooks\"->azureml-sdk[notebooks])\n",
      "  Downloading https://files.pythonhosted.org/packages/6a/93/dfcf5b1b46ab29196274b78dcba69fab5e54b6dc303a7eed90a79194d277/tenacity-5.0.4-py2.py3-none-any.whl\n",
      "Requirement already satisfied: jupyter-client in c:\\users\\dell\\appdata\\local\\programs\\python\\python37\\lib\\site-packages (from papermill->azureml-contrib-notebook==1.0.43.*; extra == \"notebooks\"->azureml-sdk[notebooks]) (5.2.4)\n",
      "Collecting tqdm>=4.29.1 (from papermill->azureml-contrib-notebook==1.0.43.*; extra == \"notebooks\"->azureml-sdk[notebooks])\n",
      "  Downloading https://files.pythonhosted.org/packages/9f/3d/7a6b68b631d2ab54975f3a4863f3c4e9b26445353264ef01f465dc9b0208/tqdm-4.32.2-py2.py3-none-any.whl (50kB)\n",
      "Requirement already satisfied: nbformat in c:\\users\\dell\\appdata\\local\\programs\\python\\python37\\lib\\site-packages (from papermill->azureml-contrib-notebook==1.0.43.*; extra == \"notebooks\"->azureml-sdk[notebooks]) (4.4.0)\n",
      "Requirement already satisfied: tornado>=4.2 in c:\\users\\dell\\appdata\\local\\programs\\python\\python37\\lib\\site-packages (from ipykernel->azureml-contrib-notebook==1.0.43.*; extra == \"notebooks\"->azureml-sdk[notebooks]) (5.1.1)\n",
      "Requirement already satisfied: traitlets>=4.1.0 in c:\\users\\dell\\appdata\\local\\programs\\python\\python37\\lib\\site-packages (from ipykernel->azureml-contrib-notebook==1.0.43.*; extra == \"notebooks\"->azureml-sdk[notebooks]) (4.3.2)\n",
      "Requirement already satisfied: setuptools>=18.5 in c:\\users\\dell\\appdata\\local\\programs\\python\\python37\\lib\\site-packages (from ipython->azureml-contrib-notebook==1.0.43.*; extra == \"notebooks\"->azureml-sdk[notebooks]) (40.8.0)\n",
      "Requirement already satisfied: pygments in c:\\users\\dell\\appdata\\local\\programs\\python\\python37\\lib\\site-packages (from ipython->azureml-contrib-notebook==1.0.43.*; extra == \"notebooks\"->azureml-sdk[notebooks]) (2.3.1)\n",
      "Requirement already satisfied: colorama; sys_platform == \"win32\" in c:\\users\\dell\\appdata\\local\\programs\\python\\python37\\lib\\site-packages (from ipython->azureml-contrib-notebook==1.0.43.*; extra == \"notebooks\"->azureml-sdk[notebooks]) (0.4.1)\n",
      "Requirement already satisfied: pickleshare in c:\\users\\dell\\appdata\\local\\programs\\python\\python37\\lib\\site-packages (from ipython->azureml-contrib-notebook==1.0.43.*; extra == \"notebooks\"->azureml-sdk[notebooks]) (0.7.5)\n",
      "Requirement already satisfied: backcall in c:\\users\\dell\\appdata\\local\\programs\\python\\python37\\lib\\site-packages (from ipython->azureml-contrib-notebook==1.0.43.*; extra == \"notebooks\"->azureml-sdk[notebooks]) (0.1.0)\n",
      "Requirement already satisfied: jedi>=0.10 in c:\\users\\dell\\appdata\\local\\programs\\python\\python37\\lib\\site-packages (from ipython->azureml-contrib-notebook==1.0.43.*; extra == \"notebooks\"->azureml-sdk[notebooks]) (0.13.3)\n",
      "Requirement already satisfied: prompt-toolkit<2.1.0,>=2.0.0 in c:\\users\\dell\\appdata\\local\\programs\\python\\python37\\lib\\site-packages (from ipython->azureml-contrib-notebook==1.0.43.*; extra == \"notebooks\"->azureml-sdk[notebooks]) (2.0.9)\n",
      "Requirement already satisfied: decorator in c:\\users\\dell\\appdata\\local\\programs\\python\\python37\\lib\\site-packages (from ipython->azureml-contrib-notebook==1.0.43.*; extra == \"notebooks\"->azureml-sdk[notebooks]) (4.4.0)\n",
      "Collecting applicationinsights (from azureml-telemetry==1.0.43.*->azureml-widgets==1.0.43.*; extra == \"notebooks\"->azureml-sdk[notebooks])\n",
      "  Using cached https://files.pythonhosted.org/packages/a1/53/234c53004f71f0717d8acd37876e0b65c121181167057b9ce1b1795f96a0/applicationinsights-0.11.9-py2.py3-none-any.whl\n",
      "Requirement already satisfied: widgetsnbextension~=3.4.0 in c:\\users\\dell\\appdata\\local\\programs\\python\\python37\\lib\\site-packages (from ipywidgets>=7.0.0->azureml-widgets==1.0.43.*; extra == \"notebooks\"->azureml-sdk[notebooks]) (3.4.2)\n",
      "Collecting oauthlib>=3.0.0 (from requests-oauthlib>=0.5.0->msrest>=0.5.1->azureml-core==1.0.43.*->azureml-sdk[notebooks])\n",
      "  Using cached https://files.pythonhosted.org/packages/16/95/699466b05b72b94a41f662dc9edf87fda4289e3602ecd42d27fcaddf7b56/oauthlib-3.0.1-py2.py3-none-any.whl\n",
      "Collecting pywin32>=223 (from pypiwin32==223; sys_platform == \"win32\" and python_version >= \"3.6\"->docker->azureml-core==1.0.43.*->azureml-sdk[notebooks])\n",
      "  Downloading https://files.pythonhosted.org/packages/a3/8a/eada1e7990202cd27e58eca2a278c344fef190759bbdc8f8f0eb6abeca9c/pywin32-224-cp37-cp37m-win_amd64.whl (9.0MB)\n",
      "Collecting pycparser (from cffi!=1.11.3,>=1.8->cryptography!=1.9,!=2.0.*,!=2.1.*,!=2.2.*->azureml-core==1.0.43.*->azureml-sdk[notebooks])\n",
      "Requirement already satisfied: defusedxml in c:\\users\\dell\\appdata\\local\\programs\\python\\python37\\lib\\site-packages (from nbconvert>=5.5->papermill->azureml-contrib-notebook==1.0.43.*; extra == \"notebooks\"->azureml-sdk[notebooks]) (0.6.0)\n",
      "Requirement already satisfied: jupyter-core in c:\\users\\dell\\appdata\\local\\programs\\python\\python37\\lib\\site-packages (from nbconvert>=5.5->papermill->azureml-contrib-notebook==1.0.43.*; extra == \"notebooks\"->azureml-sdk[notebooks]) (4.4.0)\n",
      "Requirement already satisfied: bleach in c:\\users\\dell\\appdata\\local\\programs\\python\\python37\\lib\\site-packages (from nbconvert>=5.5->papermill->azureml-contrib-notebook==1.0.43.*; extra == \"notebooks\"->azureml-sdk[notebooks]) (3.1.0)\n",
      "Requirement already satisfied: testpath in c:\\users\\dell\\appdata\\local\\programs\\python\\python37\\lib\\site-packages (from nbconvert>=5.5->papermill->azureml-contrib-notebook==1.0.43.*; extra == \"notebooks\"->azureml-sdk[notebooks]) (0.4.2)\n",
      "Requirement already satisfied: pandocfilters>=1.4.1 in c:\\users\\dell\\appdata\\local\\programs\\python\\python37\\lib\\site-packages (from nbconvert>=5.5->papermill->azureml-contrib-notebook==1.0.43.*; extra == \"notebooks\"->azureml-sdk[notebooks]) (1.4.2)\n",
      "Requirement already satisfied: jinja2>=2.4 in c:\\users\\dell\\appdata\\local\\programs\\python\\python37\\lib\\site-packages (from nbconvert>=5.5->papermill->azureml-contrib-notebook==1.0.43.*; extra == \"notebooks\"->azureml-sdk[notebooks]) (2.10.1)\n",
      "Requirement already satisfied: mistune>=0.8.1 in c:\\users\\dell\\appdata\\local\\programs\\python\\python37\\lib\\site-packages (from nbconvert>=5.5->papermill->azureml-contrib-notebook==1.0.43.*; extra == \"notebooks\"->azureml-sdk[notebooks]) (0.8.4)\n",
      "Collecting textwrap3>=0.9.2 (from ansiwrap->papermill->azureml-contrib-notebook==1.0.43.*; extra == \"notebooks\"->azureml-sdk[notebooks])\n",
      "  Downloading https://files.pythonhosted.org/packages/77/9c/a53e561d496ee5866bbeea4d3a850b3b545ed854f8a21007c1e0d872e94d/textwrap3-0.9.2-py2.py3-none-any.whl\n",
      "Requirement already satisfied: pyzmq>=13 in c:\\users\\dell\\appdata\\local\\programs\\python\\python37\\lib\\site-packages (from jupyter-client->papermill->azureml-contrib-notebook==1.0.43.*; extra == \"notebooks\"->azureml-sdk[notebooks]) (18.0.1)\n",
      "Requirement already satisfied: ipython-genutils in c:\\users\\dell\\appdata\\local\\programs\\python\\python37\\lib\\site-packages (from nbformat->papermill->azureml-contrib-notebook==1.0.43.*; extra == \"notebooks\"->azureml-sdk[notebooks]) (0.2.0)\n",
      "Requirement already satisfied: jsonschema!=2.5.0,>=2.4 in c:\\users\\dell\\appdata\\local\\programs\\python\\python37\\lib\\site-packages (from nbformat->papermill->azureml-contrib-notebook==1.0.43.*; extra == \"notebooks\"->azureml-sdk[notebooks]) (2.6.0)\n",
      "Requirement already satisfied: parso>=0.3.0 in c:\\users\\dell\\appdata\\local\\programs\\python\\python37\\lib\\site-packages (from jedi>=0.10->ipython->azureml-contrib-notebook==1.0.43.*; extra == \"notebooks\"->azureml-sdk[notebooks]) (0.4.0)\n",
      "Requirement already satisfied: wcwidth in c:\\users\\dell\\appdata\\local\\programs\\python\\python37\\lib\\site-packages (from prompt-toolkit<2.1.0,>=2.0.0->ipython->azureml-contrib-notebook==1.0.43.*; extra == \"notebooks\"->azureml-sdk[notebooks]) (0.1.7)\n",
      "Requirement already satisfied: notebook>=4.4.1 in c:\\users\\dell\\appdata\\local\\programs\\python\\python37\\lib\\site-packages (from widgetsnbextension~=3.4.0->ipywidgets>=7.0.0->azureml-widgets==1.0.43.*; extra == \"notebooks\"->azureml-sdk[notebooks]) (5.7.8)\n",
      "Requirement already satisfied: webencodings in c:\\users\\dell\\appdata\\local\\programs\\python\\python37\\lib\\site-packages (from bleach->nbconvert>=5.5->papermill->azureml-contrib-notebook==1.0.43.*; extra == \"notebooks\"->azureml-sdk[notebooks]) (0.5.1)\n",
      "Requirement already satisfied: MarkupSafe>=0.23 in c:\\users\\dell\\appdata\\local\\programs\\python\\python37\\lib\\site-packages (from jinja2>=2.4->nbconvert>=5.5->papermill->azureml-contrib-notebook==1.0.43.*; extra == \"notebooks\"->azureml-sdk[notebooks]) (1.1.1)\n",
      "Requirement already satisfied: Send2Trash in c:\\users\\dell\\appdata\\local\\programs\\python\\python37\\lib\\site-packages (from notebook>=4.4.1->widgetsnbextension~=3.4.0->ipywidgets>=7.0.0->azureml-widgets==1.0.43.*; extra == \"notebooks\"->azureml-sdk[notebooks]) (1.5.0)\n",
      "Requirement already satisfied: prometheus-client in c:\\users\\dell\\appdata\\local\\programs\\python\\python37\\lib\\site-packages (from notebook>=4.4.1->widgetsnbextension~=3.4.0->ipywidgets>=7.0.0->azureml-widgets==1.0.43.*; extra == \"notebooks\"->azureml-sdk[notebooks]) (0.6.0)\n",
      "Requirement already satisfied: terminado>=0.8.1 in c:\\users\\dell\\appdata\\local\\programs\\python\\python37\\lib\\site-packages (from notebook>=4.4.1->widgetsnbextension~=3.4.0->ipywidgets>=7.0.0->azureml-widgets==1.0.43.*; extra == \"notebooks\"->azureml-sdk[notebooks]) (0.8.2)\n",
      "Requirement already satisfied: pywinpty>=0.5; os_name == \"nt\" in c:\\users\\dell\\appdata\\local\\programs\\python\\python37\\lib\\site-packages (from terminado>=0.8.1->notebook>=4.4.1->widgetsnbextension~=3.4.0->ipywidgets>=7.0.0->azureml-widgets==1.0.43.*; extra == \"notebooks\"->azureml-sdk[notebooks]) (0.5.5)\n",
      "Building wheels for collected packages: pathspec\n",
      "  Building wheel for pathspec (setup.py): started\n",
      "  Building wheel for pathspec (setup.py): finished with status 'done'\n",
      "  Stored in directory: C:\\Users\\Dell\\AppData\\Local\\pip\\Cache\\wheels\\45\\cb\\7e\\ce6e6062c69446e39e328170524ca8213498bc66a74c6a210b\n",
      "Successfully built pathspec\n",
      "Installing collected packages: distro, dotnetcore2, azureml-dataprep-native, azureml-dataprep, jmespath, PyJWT, asn1crypto, pycparser, cffi, cryptography, adal, isodate, oauthlib, requests-oauthlib, msrest, msrestazure, azure-common, azure-mgmt-containerregistry, backports.weakref, backports.tempfile, azure-mgmt-storage, pyasn1, pyopenssl, ndg-httpsclient, azure-mgmt-authorization, azure-mgmt-keyvault, websocket-client, pywin32, pypiwin32, docker, ruamel.yaml, azure-mgmt-resource, jeepney, SecretStorage, azure-graphrbac, jsonpickle, pathspec, contextlib2, azureml-core, azureml-pipeline-core, applicationinsights, azureml-telemetry, azureml-train-restclients-hyperdrive, azureml-train-core, azureml-pipeline-steps, azureml-pipeline, azureml-train, click, nbconvert, textwrap3, ansiwrap, tenacity, tqdm, papermill, azureml-contrib-notebook, azureml-widgets, azureml-sdk\n",
      "  Found existing installation: nbconvert 5.4.1\n",
      "    Uninstalling nbconvert-5.4.1:\n",
      "      Successfully uninstalled nbconvert-5.4.1\n",
      "Successfully installed PyJWT-1.7.1 SecretStorage-3.1.1 adal-1.2.1 ansiwrap-0.8.4 applicationinsights-0.11.9 asn1crypto-0.24.0 azure-common-1.1.22 azure-graphrbac-0.61.1 azure-mgmt-authorization-0.52.0 azure-mgmt-containerregistry-2.8.0 azure-mgmt-keyvault-2.0.0 azure-mgmt-resource-3.0.0 azure-mgmt-storage-4.0.0 azureml-contrib-notebook-1.0.43 azureml-core-1.0.43.1 azureml-dataprep-1.1.5 azureml-dataprep-native-13.0.0 azureml-pipeline-1.0.43 azureml-pipeline-core-1.0.43 azureml-pipeline-steps-1.0.43 azureml-sdk-1.0.43 azureml-telemetry-1.0.43.1 azureml-train-1.0.43 azureml-train-core-1.0.43 azureml-train-restclients-hyperdrive-1.0.43 azureml-widgets-1.0.43.1 backports.tempfile-1.0 backports.weakref-1.0.post1 cffi-1.12.3 click-7.0 contextlib2-0.5.5 cryptography-2.7 distro-1.4.0 docker-4.0.2 dotnetcore2-2.1.8 isodate-0.6.0 jeepney-0.4 jmespath-0.9.4 jsonpickle-1.2 msrest-0.6.7 msrestazure-0.6.1 nbconvert-5.5.0 ndg-httpsclient-0.5.1 oauthlib-3.0.1 papermill-1.0.1 pathspec-0.5.9 pyasn1-0.4.5 pycparser-2.19 pyopenssl-19.0.0 pypiwin32-223 pywin32-224 requests-oauthlib-1.2.0 ruamel.yaml-0.15.89 tenacity-5.0.4 textwrap3-0.9.2 tqdm-4.32.2 websocket-client-0.56.0\n",
      "Note: you may need to restart the kernel to use updated packages.\n"
     ]
    }
   ],
   "source": [
    "pip install azureml-sdk[notebooks]"
   ]
  },
  {
   "cell_type": "code",
   "execution_count": 15,
   "metadata": {
    "colab": {},
    "colab_type": "code",
    "id": "O1cQlJMT4trn",
    "scrolled": true
   },
   "outputs": [],
   "source": [
    "import logging\n",
    "import os\n",
    "import random\n",
    "\n",
    "import pandas as pd\n",
    "import azureml.core\n",
    "from azureml.core.experiment import Experiment\n",
    "from azureml.core.workspace import Workspace"
   ]
  },
  {
   "cell_type": "code",
   "execution_count": 13,
   "metadata": {},
   "outputs": [
    {
     "ename": "ModuleNotFoundError",
     "evalue": "No module named 'azureml.train.automl'",
     "output_type": "error",
     "traceback": [
      "\u001b[1;31m---------------------------------------------------------------------------\u001b[0m",
      "\u001b[1;31mModuleNotFoundError\u001b[0m                       Traceback (most recent call last)",
      "\u001b[1;32m<ipython-input-13-99e7c0415da2>\u001b[0m in \u001b[0;36m<module>\u001b[1;34m\u001b[0m\n\u001b[1;32m----> 1\u001b[1;33m \u001b[1;32mimport\u001b[0m \u001b[0mazureml\u001b[0m\u001b[1;33m.\u001b[0m\u001b[0mtrain\u001b[0m\u001b[1;33m.\u001b[0m\u001b[0mautoml\u001b[0m\u001b[1;33m\u001b[0m\u001b[1;33m\u001b[0m\u001b[0m\n\u001b[0m",
      "\u001b[1;31mModuleNotFoundError\u001b[0m: No module named 'azureml.train.automl'"
     ]
    }
   ],
   "source": [
    "import azureml.train.automl"
   ]
  },
  {
   "cell_type": "code",
   "execution_count": 16,
   "metadata": {
    "colab": {},
    "colab_type": "code",
    "id": "9UO_JR214trp"
   },
   "outputs": [
    {
     "ename": "ModuleNotFoundError",
     "evalue": "No module named 'azureml.train.automl'",
     "output_type": "error",
     "traceback": [
      "\u001b[1;31m---------------------------------------------------------------------------\u001b[0m",
      "\u001b[1;31mModuleNotFoundError\u001b[0m                       Traceback (most recent call last)",
      "\u001b[1;32m<ipython-input-16-759dac601479>\u001b[0m in \u001b[0;36m<module>\u001b[1;34m\u001b[0m\n\u001b[1;32m----> 1\u001b[1;33m \u001b[1;32mfrom\u001b[0m \u001b[0mazureml\u001b[0m\u001b[1;33m.\u001b[0m\u001b[0mtrain\u001b[0m\u001b[1;33m.\u001b[0m\u001b[0mautoml\u001b[0m \u001b[1;32mimport\u001b[0m \u001b[0mAutoMLConfig\u001b[0m\u001b[1;33m\u001b[0m\u001b[1;33m\u001b[0m\u001b[0m\n\u001b[0m\u001b[0;32m      2\u001b[0m \u001b[1;32mfrom\u001b[0m \u001b[0mazureml\u001b[0m\u001b[1;33m.\u001b[0m\u001b[0mtrain\u001b[0m\u001b[1;33m.\u001b[0m\u001b[0mautoml\u001b[0m\u001b[1;33m.\u001b[0m\u001b[0mrun\u001b[0m \u001b[1;32mimport\u001b[0m \u001b[0mAutoMLRun\u001b[0m\u001b[1;33m\u001b[0m\u001b[1;33m\u001b[0m\u001b[0m\n",
      "\u001b[1;31mModuleNotFoundError\u001b[0m: No module named 'azureml.train.automl'"
     ]
    }
   ],
   "source": [
    "from azureml.train.automl import AutoMLConfig\n",
    "from azureml.train.automl.run import AutoMLRun"
   ]
  },
  {
   "cell_type": "code",
   "execution_count": 0,
   "metadata": {
    "colab": {},
    "colab_type": "code",
    "id": "BrvVMtIy4trr",
    "outputId": "30d6babd-72f3-4789-cdbb-0682f8fe8f52"
   },
   "outputs": [
    {
     "name": "stdout",
     "output_type": "stream",
     "text": [
      "Found workspace eml01-student99 at location southcentralus\n"
     ]
    }
   ],
   "source": [
    "from azureml.core.authentication import AzureCliAuthentication\n",
    "\n",
    "cli_auth = AzureCliAuthentication()\n",
    "\n",
    "ws = Workspace(subscription_id=\"3c3bb71f-3a4c-436f-9e0a-7407d75a82fa\",\n",
    "               resource_group=\"eml-training\",\n",
    "               workspace_name=\"eml01-student99\",\n",
    "               auth=cli_auth)\n",
    "\n",
    "#ws = Workspace.from_config()\n",
    "\n",
    "print(\"Found workspace {} at location {}\".format(ws.name, ws.location))"
   ]
  },
  {
   "cell_type": "code",
   "execution_count": 0,
   "metadata": {
    "colab": {},
    "colab_type": "code",
    "id": "9mONTEAC4trw",
    "outputId": "69f9ebbc-26d1-45ab-fded-643481763ca7"
   },
   "outputs": [
    {
     "data": {
      "text/html": [
       "<div>\n",
       "<style scoped>\n",
       "    .dataframe tbody tr th:only-of-type {\n",
       "        vertical-align: middle;\n",
       "    }\n",
       "\n",
       "    .dataframe tbody tr th {\n",
       "        vertical-align: top;\n",
       "    }\n",
       "\n",
       "    .dataframe thead th {\n",
       "        text-align: right;\n",
       "    }\n",
       "</style>\n",
       "<table border=\"1\" class=\"dataframe\">\n",
       "  <thead>\n",
       "    <tr style=\"text-align: right;\">\n",
       "      <th></th>\n",
       "      <th></th>\n",
       "    </tr>\n",
       "  </thead>\n",
       "  <tbody>\n",
       "    <tr>\n",
       "      <th>SDK version</th>\n",
       "      <td>1.0.17</td>\n",
       "    </tr>\n",
       "    <tr>\n",
       "      <th>Subscription ID</th>\n",
       "      <td>3c3bb71f-3a4c-436f-9e0a-7407d75a82fa</td>\n",
       "    </tr>\n",
       "    <tr>\n",
       "      <th>Workspace Name</th>\n",
       "      <td>eml01-student99</td>\n",
       "    </tr>\n",
       "    <tr>\n",
       "      <th>Resource Group</th>\n",
       "      <td>eml-training</td>\n",
       "    </tr>\n",
       "    <tr>\n",
       "      <th>Location</th>\n",
       "      <td>southcentralus</td>\n",
       "    </tr>\n",
       "    <tr>\n",
       "      <th>Project Directory</th>\n",
       "      <td>./sample_projects/automl-local-classification-model-explanation</td>\n",
       "    </tr>\n",
       "    <tr>\n",
       "      <th>Experiment Name</th>\n",
       "      <td>automl-local-classification</td>\n",
       "    </tr>\n",
       "  </tbody>\n",
       "</table>\n",
       "</div>"
      ],
      "text/plain": [
       "                                                                                  \n",
       "SDK version        1.0.17                                                         \n",
       "Subscription ID    3c3bb71f-3a4c-436f-9e0a-7407d75a82fa                           \n",
       "Workspace Name     eml01-student99                                                \n",
       "Resource Group     eml-training                                                   \n",
       "Location           southcentralus                                                 \n",
       "Project Directory  ./sample_projects/automl-local-classification-model-explanation\n",
       "Experiment Name    automl-local-classification                                    "
      ]
     },
     "execution_count": 4,
     "metadata": {
      "tags": []
     },
     "output_type": "execute_result"
    }
   ],
   "source": [
    "# choose a name for experiment\n",
    "experiment_name = 'automl-local-classification'\n",
    "# project folder\n",
    "project_folder = './sample_projects/automl-local-classification-model-explanation'\n",
    "\n",
    "experiment=Experiment(ws, experiment_name)\n",
    "\n",
    "output = {}\n",
    "output['SDK version'] = azureml.core.VERSION\n",
    "output['Subscription ID'] = ws.subscription_id\n",
    "output['Workspace Name'] = ws.name\n",
    "output['Resource Group'] = ws.resource_group\n",
    "output['Location'] = ws.location\n",
    "output['Project Directory'] = project_folder\n",
    "output['Experiment Name'] = experiment.name\n",
    "pd.set_option('display.max_colwidth', -1)\n",
    "pd.DataFrame(data = output, index = ['']).T"
   ]
  },
  {
   "cell_type": "markdown",
   "metadata": {
    "colab_type": "text",
    "id": "irYo3vfs4trz"
   },
   "source": [
    "## Diagnostics\n",
    "\n",
    "Opt-in diagnostics for better experience, quality, and security of future releases"
   ]
  },
  {
   "cell_type": "code",
   "execution_count": 0,
   "metadata": {
    "colab": {},
    "colab_type": "code",
    "id": "MwXZHTB04tr0",
    "outputId": "9dfccdea-b679-406d-c2e9-cddb962c4cfe"
   },
   "outputs": [
    {
     "name": "stdout",
     "output_type": "stream",
     "text": [
      "Turning diagnostics collection on. \n"
     ]
    }
   ],
   "source": [
    "from azureml.telemetry import set_diagnostics_collection\n",
    "set_diagnostics_collection(send_diagnostics=True)"
   ]
  },
  {
   "cell_type": "markdown",
   "metadata": {
    "colab_type": "text",
    "id": "TIHiulWD4tr3"
   },
   "source": [
    "## Load Iris Data Set"
   ]
  },
  {
   "cell_type": "code",
   "execution_count": 0,
   "metadata": {
    "colab": {},
    "colab_type": "code",
    "id": "ssg_G34k4tr4"
   },
   "outputs": [],
   "source": [
    "from sklearn import datasets\n",
    "\n",
    "iris = datasets.load_iris()\n",
    "y = iris.target\n",
    "X = iris.data\n",
    "\n",
    "features = iris.feature_names\n",
    "\n",
    "from sklearn.model_selection import train_test_split\n",
    "X_train, X_test, y_train, y_test = train_test_split(X,\n",
    "                                                    y,\n",
    "                                                    test_size=0.1,\n",
    "                                                    random_state=100,\n",
    "                                                    stratify=y)\n",
    "\n",
    "X_train = pd.DataFrame(X_train, columns=features)\n",
    "X_test = pd.DataFrame(X_test, columns=features)"
   ]
  },
  {
   "cell_type": "markdown",
   "metadata": {
    "colab_type": "text",
    "id": "R68ecCh04tr6"
   },
   "source": [
    "## Instantiate Auto ML Config\n",
    "\n",
    "Instantiate a AutoMLConfig object. This defines the settings and data used to run the experiment.\n",
    "\n",
    "|Property|Description|\n",
    "|-|-|\n",
    "|**task**|classification or regression|\n",
    "|**primary_metric**|This is the metric that you want to optimize. Classification supports the following primary metrics: <br><i>accuracy</i><br><i>AUC_weighted</i><br><i>average_precision_score_weighted</i><br><i>norm_macro_recall</i><br><i>precision_score_weighted</i>|\n",
    "|**max_time_sec**|Time limit in minutes for each iterations|\n",
    "|**iterations**|Number of iterations. In each iteration Auto ML trains the data with a specific pipeline|\n",
    "|**X**|(sparse) array-like, shape = [n_samples, n_features]|\n",
    "|**y**|(sparse) array-like, shape = [n_samples, ], [n_samples, n_classes]<br>Multi-class targets. An indicator matrix turns on multilabel classification.  This should be an array of integers. |\n",
    "|**X_valid**|(sparse) array-like, shape = [n_samples, n_features]|\n",
    "|**y_valid**|(sparse) array-like, shape = [n_samples, ], [n_samples, n_classes]|\n",
    "|**model_explainability**|Indicate to explain each trained pipeline or not |\n",
    "|**path**|Relative path to the project folder.  AutoML stores configuration files for the experiment under this folder. You can specify a new empty folder. |"
   ]
  },
  {
   "cell_type": "code",
   "execution_count": 0,
   "metadata": {
    "colab": {},
    "colab_type": "code",
    "id": "RkuhboKR4tr6"
   },
   "outputs": [],
   "source": [
    "automl_config = AutoMLConfig(task = 'classification',\n",
    "                             debug_log = 'automl_errors.log',\n",
    "                             primary_metric = 'AUC_weighted',\n",
    "                             iteration_timeout_minutes = 200,\n",
    "                             iterations = 10,\n",
    "                             verbosity = logging.INFO,\n",
    "                             X = X_train, \n",
    "                             y = y_train,\n",
    "                             X_valid = X_test,\n",
    "                             y_valid = y_test,\n",
    "                             model_explainability=True,\n",
    "                             path=project_folder)"
   ]
  },
  {
   "cell_type": "markdown",
   "metadata": {
    "colab_type": "text",
    "id": "zvShNh024tr8"
   },
   "source": [
    "## Training the Model\n",
    "\n",
    "You can call the submit method on the experiment object and pass the run configuration. For Local runs the execution is synchronous. Depending on the data and number of iterations this can run for while.\n",
    "You will see the currently running iterations printing to the console."
   ]
  },
  {
   "cell_type": "code",
   "execution_count": 0,
   "metadata": {
    "colab": {},
    "colab_type": "code",
    "id": "_SA4ZcDc4tr9"
   },
   "outputs": [],
   "source": [
    "! pip install --upgrade numpy"
   ]
  },
  {
   "cell_type": "code",
   "execution_count": 0,
   "metadata": {
    "colab": {},
    "colab_type": "code",
    "id": "BOuCD4kF4tr_",
    "outputId": "d64bea39-699d-4421-bc09-2f8221f7e279"
   },
   "outputs": [
    {
     "name": "stdout",
     "output_type": "stream",
     "text": [
      "Running on local machine\n",
      "Parent Run ID: AutoML_e79f03e4-55a1-448f-b218-f073420e35ba\n",
      "********************************************************************************************************************\n",
      "ITERATION: The iteration being evaluated.\n",
      "PIPELINE: A summary description of the pipeline being evaluated.\n",
      "SAMPLING %: Percent of the training data to sample.\n",
      "DURATION: Time taken for the current iteration.\n",
      "METRIC: The result of computing score on the fitted pipeline.\n",
      "BEST: The best observed score thus far.\n",
      "********************************************************************************************************************\n",
      "\n",
      " ITERATION   PIPELINE                                       SAMPLING %  DURATION      METRIC      BEST\n",
      "         0   MaxAbsScaler LightGBM                          100.0000    0:00:16       1.0000    1.0000\n",
      "         1   RobustScaler LightGBM                          100.0000    0:00:18       1.0000    1.0000\n",
      "         2   RobustScaler LogisticRegression                100.0000    0:00:18       0.9733    1.0000\n",
      "         3   StandardScalerWrapper LightGBM                 100.0000    0:00:15       1.0000    1.0000\n",
      "         4   MaxAbsScaler LightGBM                          100.0000    0:00:16       1.0000    1.0000\n",
      "         5   MinMaxScaler LightGBM                          100.0000    0:00:17       1.0000    1.0000\n",
      "         6   StandardScalerWrapper LightGBM                 100.0000    0:00:15       1.0000    1.0000\n",
      "         7   MinMaxScaler LogisticRegression                100.0000    0:00:14       1.0000    1.0000\n",
      "         8   StandardScalerWrapper LightGBM                 100.0000    0:00:15       1.0000    1.0000\n",
      "         9   Ensemble                                       100.0000    0:00:23       1.0000    1.0000\n"
     ]
    }
   ],
   "source": [
    "local_run = experiment.submit(automl_config, show_output=True)"
   ]
  },
  {
   "cell_type": "markdown",
   "metadata": {
    "colab_type": "text",
    "id": "KTtc7Blm4tsC"
   },
   "source": [
    "## Exploring the results"
   ]
  },
  {
   "cell_type": "markdown",
   "metadata": {
    "colab_type": "text",
    "id": "z9j74P244tsC"
   },
   "source": [
    "### Widget for monitoring runs\n",
    "\n",
    "The widget will sit on \"loading\" until the first iteration completed, then you will see an auto-updating graph and table show up. It refreshed once per minute, so you should see the graph update as child runs complete.\n",
    "\n",
    "NOTE: The widget displays a link at the bottom. This links to a web-ui to explore the individual run details."
   ]
  },
  {
   "cell_type": "code",
   "execution_count": 0,
   "metadata": {
    "colab": {},
    "colab_type": "code",
    "id": "8-DTxILF4tsD",
    "outputId": "f3ba7e1b-2208-4091-b013-00586b033284"
   },
   "outputs": [
    {
     "data": {
      "application/vnd.jupyter.widget-view+json": {
       "model_id": "a86b170eb0764b999da8142d82f9ad10",
       "version_major": 2,
       "version_minor": 0
      },
      "text/plain": [
       "_AutoMLWidget(widget_settings={'childWidgetDisplay': 'popup', 'send_telemetry': True, 'log_level': 'INFO', 'sd…"
      ]
     },
     "metadata": {
      "tags": []
     },
     "output_type": "display_data"
    }
   ],
   "source": [
    "from azureml.widgets import RunDetails\n",
    "RunDetails(local_run).show() "
   ]
  },
  {
   "cell_type": "markdown",
   "metadata": {
    "colab_type": "text",
    "id": "07sSzFko4tsG"
   },
   "source": [
    "### Retrieve the Best Model\n",
    "\n",
    "Below we select the best pipeline from our iterations. The *get_output* method on automl_classifier returns the best run and the fitted model for the last *fit* invocation. There are overloads on *get_output* that allow you to retrieve the best run and fitted model for *any* logged metric or a particular *iteration*."
   ]
  },
  {
   "cell_type": "code",
   "execution_count": 0,
   "metadata": {
    "colab": {},
    "colab_type": "code",
    "id": "aQHEgQ3E4tsH",
    "outputId": "3d8f924b-3a5b-4971-9e94-caca20d5f3ea"
   },
   "outputs": [
    {
     "name": "stdout",
     "output_type": "stream",
     "text": [
      "Run(Experiment: automl-local-classification,\n",
      "Id: AutoML_e79f03e4-55a1-448f-b218-f073420e35ba_9,\n",
      "Type: None,\n",
      "Status: Completed)\n",
      "Pipeline(memory=None,\n",
      "     steps=[('prefittedsoftvotingclassifier', PreFittedSoftVotingClassifier(classification_labels=None,\n",
      "               estimators=[('LightGBM_8', Pipeline(memory=None,\n",
      "     steps=[('StandardScalerWrapper', <automl.client.core.common.model_wrappers.StandardScalerWrapper object at 0x000001BE4399EA20>), ('L...x000001BE43A67828>)]))],\n",
      "               flatten_transform=None, weights=[0.6, 0.1, 0.1, 0.1, 0.1]))])\n"
     ]
    }
   ],
   "source": [
    "best_run, fitted_model = local_run.get_output()\n",
    "print(best_run)\n",
    "print(fitted_model)"
   ]
  },
  {
   "cell_type": "markdown",
   "metadata": {
    "colab_type": "text",
    "id": "y-JgqDFk4tsK"
   },
   "source": [
    "### Best Model 's explanation\n",
    "\n",
    "Retrieve the explanation from the best_run. And explanation information includes:\n",
    "\n",
    "1.\tshap_values: The explanation information generated by shap lib\n",
    "2.\texpected_values: The expected value of the model applied to set of X_train data.\n",
    "3.\toverall_summary: The model level feature importance values sorted in descending order\n",
    "4.\toverall_imp: The feature names sorted in the same order as in overall_summary\n",
    "5.\tper_class_summary: The class level feature importance values sorted in descending order. Only available for the classification case\n",
    "6.\tper_class_imp: The feature names sorted in the same order as in per_class_summary. Only available for the classification case"
   ]
  },
  {
   "cell_type": "code",
   "execution_count": 0,
   "metadata": {
    "colab": {},
    "colab_type": "code",
    "id": "mEg-Nh3F4tsL"
   },
   "outputs": [],
   "source": [
    "! pip install --upgrade azureml-sdk[explain]"
   ]
  },
  {
   "cell_type": "code",
   "execution_count": 0,
   "metadata": {
    "colab": {},
    "colab_type": "code",
    "id": "7vCkPAva4tsO"
   },
   "outputs": [],
   "source": [
    "! conda upgrade numpy"
   ]
  },
  {
   "cell_type": "code",
   "execution_count": 0,
   "metadata": {
    "colab": {},
    "colab_type": "code",
    "id": "ejEp6VjS4tsR"
   },
   "outputs": [],
   "source": [
    "from azureml.train.automl.automlexplainer import retrieve_model_explanation\n",
    "\n",
    "shap_values, expected_values, overall_summary, overall_imp, per_class_summary, per_class_imp = \\\n",
    "    retrieve_model_explanation(best_run)"
   ]
  },
  {
   "cell_type": "code",
   "execution_count": 0,
   "metadata": {
    "colab": {},
    "colab_type": "code",
    "id": "_IYKErpU4tsT",
    "outputId": "73642ffb-c4fa-427d-d325-98ccbbf502f2"
   },
   "outputs": [
    {
     "name": "stdout",
     "output_type": "stream",
     "text": [
      "[0.14166846392786872, 0.1335369079959715, 0.053450419494447406, 0.04017985901439138]\n",
      "['petal length (cm)', 'petal width (cm)', 'sepal length (cm)', 'sepal width (cm)']\n"
     ]
    }
   ],
   "source": [
    "print(overall_summary)\n",
    "print(overall_imp)"
   ]
  },
  {
   "cell_type": "code",
   "execution_count": 0,
   "metadata": {
    "colab": {},
    "colab_type": "code",
    "id": "KJsB8B6o4tsW",
    "outputId": "998e1b0f-21d3-4b8a-f4be-32e9178a4663"
   },
   "outputs": [
    {
     "name": "stdout",
     "output_type": "stream",
     "text": [
      "[[0.13848804955812774, 0.11406277723118231, 0.07270583269504863, 0.05967851129014119], [0.1414412060638979, 0.1315330126039155, 0.05192642321504621, 0.04845770098122552], [0.1550149341528167, 0.1450761361615805, 0.039187724807068086, 0.008934642537986743]]\n",
      "[['petal length (cm)', 'petal width (cm)', 'sepal length (cm)', 'sepal width (cm)'], ['petal length (cm)', 'petal width (cm)', 'sepal width (cm)', 'sepal length (cm)'], ['petal width (cm)', 'petal length (cm)', 'sepal length (cm)', 'sepal width (cm)']]\n"
     ]
    }
   ],
   "source": [
    "print(per_class_summary)\n",
    "print(per_class_imp)"
   ]
  },
  {
   "cell_type": "markdown",
   "metadata": {
    "colab_type": "text",
    "id": "-O5DfAi94tsZ"
   },
   "source": [
    "Beside retrieve the existed model explanation information, explain the model with different train/test data"
   ]
  },
  {
   "cell_type": "code",
   "execution_count": 0,
   "metadata": {
    "colab": {},
    "colab_type": "code",
    "id": "Py38Cr4E4tsZ",
    "outputId": "859f12d6-01c0-4fb5-bb0f-8450881e0087"
   },
   "outputs": [
    {
     "name": "stderr",
     "output_type": "stream",
     "text": [
      "100%|██████████████████████████████████████████████████████████████████████████████████| 15/15 [00:00<00:00, 86.16it/s]\n"
     ]
    }
   ],
   "source": [
    "from azureml.train.automl.automlexplainer import explain_model\n",
    "\n",
    "shap_values, expected_values, overall_summary, overall_imp, per_class_summary, per_class_imp = \\\n",
    "    explain_model(fitted_model, X_train, X_test)"
   ]
  },
  {
   "cell_type": "code",
   "execution_count": 0,
   "metadata": {
    "colab": {},
    "colab_type": "code",
    "id": "FinWdh0l4tsc",
    "outputId": "68a040c4-74d8-405d-c959-4de30f2679b3"
   },
   "outputs": [
    {
     "name": "stdout",
     "output_type": "stream",
     "text": [
      "[0.14166846392786872, 0.1335369079959715, 0.053450419494447406, 0.04017985901439138]\n",
      "['petal length (cm)', 'petal width (cm)', 'sepal length (cm)', 'sepal width (cm)']\n"
     ]
    }
   ],
   "source": [
    "print(overall_summary)\n",
    "print(overall_imp)"
   ]
  },
  {
   "cell_type": "code",
   "execution_count": 0,
   "metadata": {
    "colab": {},
    "colab_type": "code",
    "id": "eYBbWl8o4tse"
   },
   "outputs": [],
   "source": []
  }
 ],
 "metadata": {
  "authors": [
   {
    "name": "xif"
   }
  ],
  "colab": {
   "name": "09_aml_automl-model-explanation.ipynb",
   "provenance": [],
   "version": "0.3.2"
  },
  "kernelspec": {
   "display_name": "Python 3",
   "language": "python",
   "name": "python3"
  },
  "language_info": {
   "codemirror_mode": {
    "name": "ipython",
    "version": 3
   },
   "file_extension": ".py",
   "mimetype": "text/x-python",
   "name": "python",
   "nbconvert_exporter": "python",
   "pygments_lexer": "ipython3",
   "version": "3.7.3"
  }
 },
 "nbformat": 4,
 "nbformat_minor": 1
}
